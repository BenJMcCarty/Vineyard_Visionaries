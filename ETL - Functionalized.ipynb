{
 "cells": [
  {
   "cell_type": "markdown",
   "id": "3346ee76-05a2-460a-94df-a96fa6f17f5f",
   "metadata": {},
   "source": [
    "## Functionalized API Calls"
   ]
  },
  {
   "cell_type": "markdown",
   "id": "b2ff2e6e-ee8b-4f9f-bcce-375abc7823a0",
   "metadata": {},
   "source": [
    "---\n",
    "\n",
    "After moving the improved API functions from the original notebook to a new distinct module, I need to verify that they are working as intended.\n",
    "\n",
    "---"
   ]
  },
  {
   "cell_type": "code",
   "execution_count": 1,
   "id": "52645d5f-8602-4a49-9be1-d477a21c1135",
   "metadata": {
    "execution": {
     "iopub.execute_input": "2024-03-19T21:49:20.281348Z",
     "iopub.status.busy": "2024-03-19T21:49:20.281348Z",
     "iopub.status.idle": "2024-03-19T21:49:20.333431Z",
     "shell.execute_reply": "2024-03-19T21:49:20.333431Z",
     "shell.execute_reply.started": "2024-03-19T21:49:20.281348Z"
    }
   },
   "outputs": [],
   "source": [
    "%load_ext autoreload\n",
    "%autoreload 2"
   ]
  },
  {
   "cell_type": "code",
   "execution_count": 2,
   "id": "5de48503-feec-4458-b9c1-9f98dd698360",
   "metadata": {
    "execution": {
     "iopub.execute_input": "2024-03-19T21:49:20.334478Z",
     "iopub.status.busy": "2024-03-19T21:49:20.334478Z",
     "iopub.status.idle": "2024-03-19T21:49:20.870928Z",
     "shell.execute_reply": "2024-03-19T21:49:20.870928Z",
     "shell.execute_reply.started": "2024-03-19T21:49:20.334478Z"
    }
   },
   "outputs": [],
   "source": [
    "import numpy as np\n",
    "import pandas as pd\n",
    "import json\n",
    "import requests\n",
    "\n",
    "from functions.yelp_api_functions import *"
   ]
  },
  {
   "cell_type": "code",
   "execution_count": 3,
   "id": "f2aa21d4-ba30-428b-b75e-09153155e4ab",
   "metadata": {
    "execution": {
     "iopub.execute_input": "2024-03-19T21:49:20.870928Z",
     "iopub.status.busy": "2024-03-19T21:49:20.870928Z",
     "iopub.status.idle": "2024-03-19T21:49:20.944555Z",
     "shell.execute_reply": "2024-03-19T21:49:20.944555Z",
     "shell.execute_reply.started": "2024-03-19T21:49:20.870928Z"
    }
   },
   "outputs": [],
   "source": [
    "with open('.secrets.json') as f:\n",
    "    keys = json.load(f)\n",
    "\n",
    "client_id = keys['Client_ID']\n",
    "yelp_key = keys['api_key']"
   ]
  },
  {
   "cell_type": "code",
   "execution_count": 4,
   "id": "480769c1-6b08-47ce-ab05-f9144b38f19d",
   "metadata": {
    "execution": {
     "iopub.execute_input": "2024-03-19T21:49:20.944555Z",
     "iopub.status.busy": "2024-03-19T21:49:20.944555Z",
     "iopub.status.idle": "2024-03-19T21:49:20.997404Z",
     "shell.execute_reply": "2024-03-19T21:49:20.997338Z",
     "shell.execute_reply.started": "2024-03-19T21:49:20.944555Z"
    }
   },
   "outputs": [
    {
     "name": "stdout",
     "output_type": "stream",
     "text": [
      " ./data/hotel_reviews/ \n",
      " ./data/hotel_reviews/hotel_data_raw.csv \n",
      " ./data/hotel_reviews/hotel_data_cleaned.csv\n"
     ]
    }
   ],
   "source": [
    "hotel_review_folder = './data/hotel_reviews/'\n",
    "hotel_data_raw = hotel_review_folder + 'hotel_data_raw.csv'\n",
    "hotel_data_cleaned = hotel_review_folder + 'hotel_data_cleaned.csv'\n",
    "\n",
    "print('', hotel_review_folder, '\\n', hotel_data_raw, '\\n', hotel_data_cleaned)"
   ]
  },
  {
   "cell_type": "markdown",
   "id": "785f1670-f45f-4f49-894e-2d8f0e06e621",
   "metadata": {},
   "source": [
    "# Testing Functions"
   ]
  },
  {
   "cell_type": "code",
   "execution_count": 5,
   "id": "71085449-b804-4e28-81e9-65132198b6e5",
   "metadata": {
    "execution": {
     "iopub.execute_input": "2024-03-19T21:49:20.998408Z",
     "iopub.status.busy": "2024-03-19T21:49:20.998408Z",
     "iopub.status.idle": "2024-03-19T21:49:21.414364Z",
     "shell.execute_reply": "2024-03-19T21:49:21.413881Z",
     "shell.execute_reply.started": "2024-03-19T21:49:20.998408Z"
    }
   },
   "outputs": [
    {
     "name": "stdout",
     "output_type": "stream",
     "text": [
      "<Response [200]>\n",
      "<class 'str'>\n",
      "{\"businesses\": [{\"id\": \"q-Px_TUI_zLr93xn-1-Ypw\", \"alias\": \"hotel-avenida-palace-lisboa\", \"name\": \"Hotel Avenida Palace\", \"image_url\": \"https://s3-media4.fl.yelpcdn.com/bphoto/pGnk4UX6URYlQzqaqdrWgA/o.jpg\", \"is_closed\": false, \"url\": \"https://www.yelp.com/biz/hotel-avenida-palace-lisboa?adjust_creative=eyY_X0k6PMB2bu6EM1dXdw&utm_campaign=yelp_api_v3&utm_medium=api_v3_business_search&utm_source=eyY_X0k6PMB2bu6EM1dXdw\", \"review_count\": 23, \"categories\": [{\"alias\": \"hotels\", \"title\": \"Hotels\"}], \"rating\": 4.6, \"coordinates\": {\"latitude\": 38.714837, \"longitude\": -9.141188}, \"transactions\": [], \"price\": \"\\u20ac\\u20ac\\u20ac\", \"location\": {\"address1\": \"R. 1\\u00ba de Dezembro, 123\", \"address2\": null, \"address3\": null, \"city\": \"Lisbon\", \"zip_code\": \"1200-359\", \"country\": \"PT\", \"state\": \"11\", \"display_address\": [\"R. 1\\u00ba de Dezembro, 123\", \"1200-359 Lisbon\", \"Portugal\"]}, \"phone\": \"+351213218100\", \"display_phone\": \"+351 21 321 8100\", \"distance\": 2538.4756317799515}, {\"id\": \"yvbBx06xhwEyvXITlGj\n"
     ]
    },
    {
     "data": {
      "text/plain": [
       "dict_keys(['businesses', 'total', 'region'])"
      ]
     },
     "execution_count": 5,
     "metadata": {},
     "output_type": "execute_result"
    }
   ],
   "source": [
    "response = yelp_request('hotel','Lisbon, Portugal', yelp_key)\n",
    "response.keys()"
   ]
  },
  {
   "cell_type": "code",
   "execution_count": 6,
   "id": "4eb7413b-4446-430d-a4ea-972096779afb",
   "metadata": {
    "execution": {
     "iopub.execute_input": "2024-03-19T21:49:21.416363Z",
     "iopub.status.busy": "2024-03-19T21:49:21.416363Z",
     "iopub.status.idle": "2024-03-19T21:49:21.483386Z",
     "shell.execute_reply": "2024-03-19T21:49:21.483386Z",
     "shell.execute_reply.started": "2024-03-19T21:49:21.416363Z"
    }
   },
   "outputs": [
    {
     "data": {
      "text/plain": [
       "{'id': 'q-Px_TUI_zLr93xn-1-Ypw',\n",
       " 'alias': 'hotel-avenida-palace-lisboa',\n",
       " 'name': 'Hotel Avenida Palace',\n",
       " 'image_url': 'https://s3-media4.fl.yelpcdn.com/bphoto/pGnk4UX6URYlQzqaqdrWgA/o.jpg',\n",
       " 'is_closed': False,\n",
       " 'url': 'https://www.yelp.com/biz/hotel-avenida-palace-lisboa?adjust_creative=eyY_X0k6PMB2bu6EM1dXdw&utm_campaign=yelp_api_v3&utm_medium=api_v3_business_search&utm_source=eyY_X0k6PMB2bu6EM1dXdw',\n",
       " 'review_count': 23,\n",
       " 'categories': [{'alias': 'hotels', 'title': 'Hotels'}],\n",
       " 'rating': 4.6,\n",
       " 'coordinates': {'latitude': 38.714837, 'longitude': -9.141188},\n",
       " 'transactions': [],\n",
       " 'price': '€€€',\n",
       " 'location': {'address1': 'R. 1º de Dezembro, 123',\n",
       "  'address2': None,\n",
       "  'address3': None,\n",
       "  'city': 'Lisbon',\n",
       "  'zip_code': '1200-359',\n",
       "  'country': 'PT',\n",
       "  'state': '11',\n",
       "  'display_address': ['R. 1º de Dezembro, 123',\n",
       "   '1200-359 Lisbon',\n",
       "   'Portugal']},\n",
       " 'phone': '+351213218100',\n",
       " 'display_phone': '+351 21 321 8100',\n",
       " 'distance': 2538.4756317799515}"
      ]
     },
     "execution_count": 6,
     "metadata": {},
     "output_type": "execute_result"
    }
   ],
   "source": [
    "response['businesses'][0]"
   ]
  },
  {
   "cell_type": "code",
   "execution_count": 7,
   "id": "2bf13df7-a61f-46f6-aa18-b670526fc119",
   "metadata": {
    "execution": {
     "iopub.execute_input": "2024-03-19T21:49:21.483386Z",
     "iopub.status.busy": "2024-03-19T21:49:21.483386Z",
     "iopub.status.idle": "2024-03-19T21:49:21.561179Z",
     "shell.execute_reply": "2024-03-19T21:49:21.560000Z",
     "shell.execute_reply.started": "2024-03-19T21:49:21.483386Z"
    }
   },
   "outputs": [
    {
     "data": {
      "text/html": [
       "<div>\n",
       "<style scoped>\n",
       "    .dataframe tbody tr th:only-of-type {\n",
       "        vertical-align: middle;\n",
       "    }\n",
       "\n",
       "    .dataframe tbody tr th {\n",
       "        vertical-align: top;\n",
       "    }\n",
       "\n",
       "    .dataframe thead th {\n",
       "        text-align: right;\n",
       "    }\n",
       "</style>\n",
       "<table border=\"1\" class=\"dataframe\">\n",
       "  <thead>\n",
       "    <tr style=\"text-align: right;\">\n",
       "      <th></th>\n",
       "      <th>name</th>\n",
       "      <th>location</th>\n",
       "      <th>Business ID</th>\n",
       "      <th>alias</th>\n",
       "      <th>title</th>\n",
       "      <th>rating</th>\n",
       "      <th>review_count</th>\n",
       "      <th>price</th>\n",
       "      <th>latitude</th>\n",
       "      <th>longitude</th>\n",
       "    </tr>\n",
       "  </thead>\n",
       "  <tbody>\n",
       "    <tr>\n",
       "      <th>0</th>\n",
       "      <td>Hotel Avenida Palace</td>\n",
       "      <td>R. 1º de Dezembro, 123 1200-359 Lisbon Portugal</td>\n",
       "      <td>q-Px_TUI_zLr93xn-1-Ypw</td>\n",
       "      <td>hotels</td>\n",
       "      <td>Hotels</td>\n",
       "      <td>4.6</td>\n",
       "      <td>23</td>\n",
       "      <td>€€€</td>\n",
       "      <td>38.714837</td>\n",
       "      <td>-9.141188</td>\n",
       "    </tr>\n",
       "    <tr>\n",
       "      <th>1</th>\n",
       "      <td>Brown's Central</td>\n",
       "      <td>R. da Assunção, 75 1100-042 Lisbon Portugal</td>\n",
       "      <td>yvbBx06xhwEyvXITlGji5g</td>\n",
       "      <td>hotels</td>\n",
       "      <td>Hotels</td>\n",
       "      <td>4.6</td>\n",
       "      <td>16</td>\n",
       "      <td>€€</td>\n",
       "      <td>38.711540</td>\n",
       "      <td>-9.138370</td>\n",
       "    </tr>\n",
       "    <tr>\n",
       "      <th>2</th>\n",
       "      <td>Sheraton Lisboa Hotel &amp; Spa</td>\n",
       "      <td>Rua Latino Coelho, 1 1069-025 Lisbon Portugal</td>\n",
       "      <td>9wTTno6WG7cHlXDDZ00EQw</td>\n",
       "      <td>hotels</td>\n",
       "      <td>Hotels</td>\n",
       "      <td>4.2</td>\n",
       "      <td>53</td>\n",
       "      <td>€€€</td>\n",
       "      <td>38.731800</td>\n",
       "      <td>-9.147000</td>\n",
       "    </tr>\n",
       "    <tr>\n",
       "      <th>3</th>\n",
       "      <td>Evolution E.Hotel</td>\n",
       "      <td>Praça Duque de Saldanha, 4 1050-094 Lisbon Por...</td>\n",
       "      <td>fmoWlWBqkVeyFpTtcE09RQ</td>\n",
       "      <td>hotels</td>\n",
       "      <td>Hotels</td>\n",
       "      <td>4.6</td>\n",
       "      <td>13</td>\n",
       "      <td>€€</td>\n",
       "      <td>38.733520</td>\n",
       "      <td>-9.144096</td>\n",
       "    </tr>\n",
       "    <tr>\n",
       "      <th>4</th>\n",
       "      <td>Ritz Four Seasons Hotel</td>\n",
       "      <td>R. Rodrigo da Fonseca, 88 1099-039 Lisbon Port...</td>\n",
       "      <td>DPkYK5RwCkAULtLJp7pOmA</td>\n",
       "      <td>hotels</td>\n",
       "      <td>Hotels</td>\n",
       "      <td>4.6</td>\n",
       "      <td>24</td>\n",
       "      <td>€€€€</td>\n",
       "      <td>38.725517</td>\n",
       "      <td>-9.155205</td>\n",
       "    </tr>\n",
       "  </tbody>\n",
       "</table>\n",
       "</div>"
      ],
      "text/plain": [
       "                          name  \\\n",
       "0         Hotel Avenida Palace   \n",
       "1              Brown's Central   \n",
       "2  Sheraton Lisboa Hotel & Spa   \n",
       "3            Evolution E.Hotel   \n",
       "4      Ritz Four Seasons Hotel   \n",
       "\n",
       "                                            location             Business ID  \\\n",
       "0    R. 1º de Dezembro, 123 1200-359 Lisbon Portugal  q-Px_TUI_zLr93xn-1-Ypw   \n",
       "1        R. da Assunção, 75 1100-042 Lisbon Portugal  yvbBx06xhwEyvXITlGji5g   \n",
       "2      Rua Latino Coelho, 1 1069-025 Lisbon Portugal  9wTTno6WG7cHlXDDZ00EQw   \n",
       "3  Praça Duque de Saldanha, 4 1050-094 Lisbon Por...  fmoWlWBqkVeyFpTtcE09RQ   \n",
       "4  R. Rodrigo da Fonseca, 88 1099-039 Lisbon Port...  DPkYK5RwCkAULtLJp7pOmA   \n",
       "\n",
       "    alias   title  rating  review_count price   latitude  longitude  \n",
       "0  hotels  Hotels     4.6            23   €€€  38.714837  -9.141188  \n",
       "1  hotels  Hotels     4.6            16    €€  38.711540  -9.138370  \n",
       "2  hotels  Hotels     4.2            53   €€€  38.731800  -9.147000  \n",
       "3  hotels  Hotels     4.6            13    €€  38.733520  -9.144096  \n",
       "4  hotels  Hotels     4.6            24  €€€€  38.725517  -9.155205  "
      ]
     },
     "execution_count": 7,
     "metadata": {},
     "output_type": "execute_result"
    }
   ],
   "source": [
    "data = parse_data(response['businesses'])\n",
    "data.head()"
   ]
  },
  {
   "cell_type": "code",
   "execution_count": 8,
   "id": "3d360606-475f-4c0f-8135-79330ddffce1",
   "metadata": {
    "execution": {
     "iopub.execute_input": "2024-03-19T21:49:21.562186Z",
     "iopub.status.busy": "2024-03-19T21:49:21.561179Z",
     "iopub.status.idle": "2024-03-19T21:49:24.461068Z",
     "shell.execute_reply": "2024-03-19T21:49:24.461068Z",
     "shell.execute_reply.started": "2024-03-19T21:49:21.562186Z"
    }
   },
   "outputs": [
    {
     "name": "stdout",
     "output_type": "stream",
     "text": [
      "File './data/hotel_reviews/hotel_data_raw.csv' already exists.\n",
      "For Hotel and Lisbon, Portugal: \n",
      "    Total number of results: 268.\n",
      "    Total number of pages: 6.\n"
     ]
    },
    {
     "data": {
      "text/html": [
       "<div>\n",
       "<style scoped>\n",
       "    .dataframe tbody tr th:only-of-type {\n",
       "        vertical-align: middle;\n",
       "    }\n",
       "\n",
       "    .dataframe tbody tr th {\n",
       "        vertical-align: top;\n",
       "    }\n",
       "\n",
       "    .dataframe thead th {\n",
       "        text-align: right;\n",
       "    }\n",
       "</style>\n",
       "<table border=\"1\" class=\"dataframe\">\n",
       "  <thead>\n",
       "    <tr style=\"text-align: right;\">\n",
       "      <th></th>\n",
       "      <th>name</th>\n",
       "      <th>location</th>\n",
       "      <th>Business ID</th>\n",
       "      <th>alias</th>\n",
       "      <th>title</th>\n",
       "      <th>rating</th>\n",
       "      <th>review_count</th>\n",
       "      <th>price</th>\n",
       "      <th>latitude</th>\n",
       "      <th>longitude</th>\n",
       "    </tr>\n",
       "  </thead>\n",
       "  <tbody>\n",
       "    <tr>\n",
       "      <th>0</th>\n",
       "      <td>Pensão Rossio</td>\n",
       "      <td>R. dos Sapateiros, 173 2.° Esq. 1100-577 Lisbo...</td>\n",
       "      <td>CPU8jOLO5qVX1zrep6OCOw</td>\n",
       "      <td>hotels</td>\n",
       "      <td>Hotels</td>\n",
       "      <td>5.0</td>\n",
       "      <td>1</td>\n",
       "      <td>NaN</td>\n",
       "      <td>38.711969</td>\n",
       "      <td>-9.138702</td>\n",
       "    </tr>\n",
       "    <tr>\n",
       "      <th>1</th>\n",
       "      <td>Shiado Hostel</td>\n",
       "      <td>R. Anchieta, 5 1200-023 Lisbon Portugal</td>\n",
       "      <td>XXhSVTPVdKXwJPcEG0LEsw</td>\n",
       "      <td>hotels</td>\n",
       "      <td>Hotels</td>\n",
       "      <td>4.0</td>\n",
       "      <td>4</td>\n",
       "      <td>€€</td>\n",
       "      <td>38.709833</td>\n",
       "      <td>-9.141074</td>\n",
       "    </tr>\n",
       "    <tr>\n",
       "      <th>2</th>\n",
       "      <td>Pensão São João da Praça</td>\n",
       "      <td>R. Sao Joao da Praça 97 1100-519 Lisbon Portugal</td>\n",
       "      <td>f1VfTQ1qsvOHfsx4n50pfA</td>\n",
       "      <td>guesthouses</td>\n",
       "      <td>Guest Houses</td>\n",
       "      <td>4.0</td>\n",
       "      <td>1</td>\n",
       "      <td>NaN</td>\n",
       "      <td>38.709486</td>\n",
       "      <td>-9.131876</td>\n",
       "    </tr>\n",
       "    <tr>\n",
       "      <th>3</th>\n",
       "      <td>Happy @ Santos</td>\n",
       "      <td>Calçada marques de Abrantes 97 1200-719 Lisbon...</td>\n",
       "      <td>EWIVrs6yBFZO0V6tK-F4Jw</td>\n",
       "      <td>hotels</td>\n",
       "      <td>Hotels</td>\n",
       "      <td>3.0</td>\n",
       "      <td>1</td>\n",
       "      <td>NaN</td>\n",
       "      <td>38.707792</td>\n",
       "      <td>-9.154771</td>\n",
       "    </tr>\n",
       "    <tr>\n",
       "      <th>4</th>\n",
       "      <td>Restaurante o Gaveto</td>\n",
       "      <td>Estr. de Benfica, 387 1500-076 Lisbon Portugal</td>\n",
       "      <td>cVzSYVh5-Tbh7kEO6XHckQ</td>\n",
       "      <td>hotels</td>\n",
       "      <td>Hotels</td>\n",
       "      <td>4.0</td>\n",
       "      <td>1</td>\n",
       "      <td>NaN</td>\n",
       "      <td>38.745029</td>\n",
       "      <td>-9.180800</td>\n",
       "    </tr>\n",
       "  </tbody>\n",
       "</table>\n",
       "</div>"
      ],
      "text/plain": [
       "                       name  \\\n",
       "0             Pensão Rossio   \n",
       "1             Shiado Hostel   \n",
       "2  Pensão São João da Praça   \n",
       "3            Happy @ Santos   \n",
       "4      Restaurante o Gaveto   \n",
       "\n",
       "                                            location             Business ID  \\\n",
       "0  R. dos Sapateiros, 173 2.° Esq. 1100-577 Lisbo...  CPU8jOLO5qVX1zrep6OCOw   \n",
       "1            R. Anchieta, 5 1200-023 Lisbon Portugal  XXhSVTPVdKXwJPcEG0LEsw   \n",
       "2   R. Sao Joao da Praça 97 1100-519 Lisbon Portugal  f1VfTQ1qsvOHfsx4n50pfA   \n",
       "3  Calçada marques de Abrantes 97 1200-719 Lisbon...  EWIVrs6yBFZO0V6tK-F4Jw   \n",
       "4     Estr. de Benfica, 387 1500-076 Lisbon Portugal  cVzSYVh5-Tbh7kEO6XHckQ   \n",
       "\n",
       "         alias         title  rating  review_count price   latitude  longitude  \n",
       "0       hotels        Hotels     5.0             1   NaN  38.711969  -9.138702  \n",
       "1       hotels        Hotels     4.0             4    €€  38.709833  -9.141074  \n",
       "2  guesthouses  Guest Houses     4.0             1   NaN  38.709486  -9.131876  \n",
       "3       hotels        Hotels     3.0             1   NaN  38.707792  -9.154771  \n",
       "4       hotels        Hotels     4.0             1   NaN  38.745029  -9.180800  "
      ]
     },
     "execution_count": 8,
     "metadata": {},
     "output_type": "execute_result"
    }
   ],
   "source": [
    "full_data = get_full_data(term = 'Hotel',\n",
    "                          location='Lisbon, Portugal',\n",
    "                          yelp_key=yelp_key,\n",
    "                          file_name=hotel_data_raw)\n",
    "full_data.head()"
   ]
  },
  {
   "cell_type": "markdown",
   "id": "97baaa60-0938-40ff-a7f5-203e640f0396",
   "metadata": {},
   "source": [
    "# Cleaning Data "
   ]
  },
  {
   "cell_type": "code",
   "execution_count": 12,
   "id": "22a94bfa-a7c4-424b-ab81-95f010ddc002",
   "metadata": {
    "execution": {
     "iopub.execute_input": "2024-03-19T21:50:13.511972Z",
     "iopub.status.busy": "2024-03-19T21:50:13.510933Z",
     "iopub.status.idle": "2024-03-19T21:50:13.599693Z",
     "shell.execute_reply": "2024-03-19T21:50:13.598691Z",
     "shell.execute_reply.started": "2024-03-19T21:50:13.511972Z"
    }
   },
   "outputs": [],
   "source": [
    "# # Read in businesses\n",
    "# df1 = pd.read_csv(hotel_data_raw, header = 1, encoding = 'latin1')\n",
    "# df1"
   ]
  },
  {
   "cell_type": "code",
   "execution_count": 13,
   "id": "6701509f-dbe2-4bec-9b95-a7f2e71d0345",
   "metadata": {
    "execution": {
     "iopub.execute_input": "2024-03-19T21:50:15.478012Z",
     "iopub.status.busy": "2024-03-19T21:50:15.478012Z",
     "iopub.status.idle": "2024-03-19T21:50:15.541518Z",
     "shell.execute_reply": "2024-03-19T21:50:15.541518Z",
     "shell.execute_reply.started": "2024-03-19T21:50:15.478012Z"
    }
   },
   "outputs": [],
   "source": [
    "# alias_index = df1['alias'].value_counts()[:2].index\n",
    "# print(alias_index)"
   ]
  },
  {
   "cell_type": "code",
   "execution_count": null,
   "id": "5dd18c44-451c-42d9-ae03-c48968a6200e",
   "metadata": {
    "execution": {
     "iopub.status.busy": "2024-03-19T21:49:25.119656Z",
     "iopub.status.idle": "2024-03-19T21:49:25.120644Z",
     "shell.execute_reply": "2024-03-19T21:49:25.119656Z",
     "shell.execute_reply.started": "2024-03-19T21:49:25.119656Z"
    }
   },
   "outputs": [],
   "source": [
    "# alias_index = df_test['alias'].value_counts()[:2].index"
   ]
  },
  {
   "cell_type": "code",
   "execution_count": 15,
   "id": "a37cf329-e087-43c1-8393-bcd0d42a63d1",
   "metadata": {
    "execution": {
     "iopub.execute_input": "2024-03-19T21:46:50.580589Z",
     "iopub.status.busy": "2024-03-19T21:46:50.579589Z",
     "iopub.status.idle": "2024-03-19T21:46:50.652490Z",
     "shell.execute_reply": "2024-03-19T21:46:50.651490Z",
     "shell.execute_reply.started": "2024-03-19T21:46:50.580589Z"
    }
   },
   "outputs": [],
   "source": [
    "# df_test[df_test['alias'].isin(alias_index)]"
   ]
  },
  {
   "cell_type": "code",
   "execution_count": 14,
   "id": "aab3916b-7c58-4a31-9367-9e8b43b1068d",
   "metadata": {
    "execution": {
     "iopub.execute_input": "2024-03-19T21:50:17.249530Z",
     "iopub.status.busy": "2024-03-19T21:50:17.248533Z",
     "iopub.status.idle": "2024-03-19T21:50:17.347051Z",
     "shell.execute_reply": "2024-03-19T21:50:17.347051Z",
     "shell.execute_reply.started": "2024-03-19T21:50:17.249530Z"
    }
   },
   "outputs": [
    {
     "name": "stdout",
     "output_type": "stream",
     "text": [
      "Index(['hotels', 'guesthouses'], dtype='object', name='alias')\n"
     ]
    },
    {
     "data": {
      "text/html": [
       "<div>\n",
       "<style scoped>\n",
       "    .dataframe tbody tr th:only-of-type {\n",
       "        vertical-align: middle;\n",
       "    }\n",
       "\n",
       "    .dataframe tbody tr th {\n",
       "        vertical-align: top;\n",
       "    }\n",
       "\n",
       "    .dataframe thead th {\n",
       "        text-align: right;\n",
       "    }\n",
       "</style>\n",
       "<table border=\"1\" class=\"dataframe\">\n",
       "  <thead>\n",
       "    <tr style=\"text-align: right;\">\n",
       "      <th></th>\n",
       "      <th>name</th>\n",
       "      <th>location</th>\n",
       "      <th>Business ID</th>\n",
       "      <th>alias</th>\n",
       "      <th>title</th>\n",
       "      <th>rating</th>\n",
       "      <th>review_count</th>\n",
       "      <th>price</th>\n",
       "      <th>latitude</th>\n",
       "      <th>longitude</th>\n",
       "    </tr>\n",
       "  </thead>\n",
       "  <tbody>\n",
       "    <tr>\n",
       "      <th>0</th>\n",
       "      <td>Hotel Avenida Palace</td>\n",
       "      <td>R. 1º de Dezembro, 123 1200-359 Lisbon Portugal</td>\n",
       "      <td>q-Px_TUI_zLr93xn-1-Ypw</td>\n",
       "      <td>hotels</td>\n",
       "      <td>Hotels</td>\n",
       "      <td>4.6</td>\n",
       "      <td>23</td>\n",
       "      <td></td>\n",
       "      <td>38.714837</td>\n",
       "      <td>-9.141188</td>\n",
       "    </tr>\n",
       "    <tr>\n",
       "      <th>1</th>\n",
       "      <td>Brown's Central</td>\n",
       "      <td>R. da Assunção, 75 1100-042 Lisbon Portugal</td>\n",
       "      <td>yvbBx06xhwEyvXITlGji5g</td>\n",
       "      <td>hotels</td>\n",
       "      <td>Hotels</td>\n",
       "      <td>4.6</td>\n",
       "      <td>16</td>\n",
       "      <td></td>\n",
       "      <td>38.7115402</td>\n",
       "      <td>-9.1383696</td>\n",
       "    </tr>\n",
       "    <tr>\n",
       "      <th>2</th>\n",
       "      <td>Sheraton Lisboa Hotel &amp; Spa</td>\n",
       "      <td>Rua Latino Coelho, 1 1069-025 Lisbon Portugal</td>\n",
       "      <td>9wTTno6WG7cHlXDDZ00EQw</td>\n",
       "      <td>hotels</td>\n",
       "      <td>Hotels</td>\n",
       "      <td>4.2</td>\n",
       "      <td>53</td>\n",
       "      <td></td>\n",
       "      <td>38.7318001</td>\n",
       "      <td>-9.1470003</td>\n",
       "    </tr>\n",
       "    <tr>\n",
       "      <th>3</th>\n",
       "      <td>Evolution E.Hotel</td>\n",
       "      <td>Praça Duque de Saldanha, 4 1050-094 Lisbon Por...</td>\n",
       "      <td>fmoWlWBqkVeyFpTtcE09RQ</td>\n",
       "      <td>hotels</td>\n",
       "      <td>Hotels</td>\n",
       "      <td>4.6</td>\n",
       "      <td>13</td>\n",
       "      <td></td>\n",
       "      <td>38.733519900691</td>\n",
       "      <td>-9.14409564100038</td>\n",
       "    </tr>\n",
       "    <tr>\n",
       "      <th>4</th>\n",
       "      <td>Ritz Four Seasons Hotel</td>\n",
       "      <td>R. Rodrigo da Fonseca, 88 1099-039 Lisbon Port...</td>\n",
       "      <td>DPkYK5RwCkAULtLJp7pOmA</td>\n",
       "      <td>hotels</td>\n",
       "      <td>Hotels</td>\n",
       "      <td>4.6</td>\n",
       "      <td>24</td>\n",
       "      <td></td>\n",
       "      <td>38.7255172</td>\n",
       "      <td>-9.1552052</td>\n",
       "    </tr>\n",
       "  </tbody>\n",
       "</table>\n",
       "</div>"
      ],
      "text/plain": [
       "                          name  \\\n",
       "0         Hotel Avenida Palace   \n",
       "1              Brown's Central   \n",
       "2  Sheraton Lisboa Hotel & Spa   \n",
       "3            Evolution E.Hotel   \n",
       "4      Ritz Four Seasons Hotel   \n",
       "\n",
       "                                            location             Business ID  \\\n",
       "0    R. 1º de Dezembro, 123 1200-359 Lisbon Portugal  q-Px_TUI_zLr93xn-1-Ypw   \n",
       "1        R. da Assunção, 75 1100-042 Lisbon Portugal  yvbBx06xhwEyvXITlGji5g   \n",
       "2      Rua Latino Coelho, 1 1069-025 Lisbon Portugal  9wTTno6WG7cHlXDDZ00EQw   \n",
       "3  Praça Duque de Saldanha, 4 1050-094 Lisbon Por...  fmoWlWBqkVeyFpTtcE09RQ   \n",
       "4  R. Rodrigo da Fonseca, 88 1099-039 Lisbon Port...  DPkYK5RwCkAULtLJp7pOmA   \n",
       "\n",
       "    alias   title rating review_count price         latitude  \\\n",
       "0  hotels  Hotels    4.6           23           38.714837   \n",
       "1  hotels  Hotels    4.6           16           38.7115402   \n",
       "2  hotels  Hotels    4.2           53          38.7318001   \n",
       "3  hotels  Hotels    4.6           13      38.733519900691   \n",
       "4  hotels  Hotels    4.6           24         38.7255172   \n",
       "\n",
       "           longitude  \n",
       "0          -9.141188  \n",
       "1         -9.1383696  \n",
       "2         -9.1470003  \n",
       "3  -9.14409564100038  \n",
       "4         -9.1552052  "
      ]
     },
     "execution_count": 14,
     "metadata": {},
     "output_type": "execute_result"
    }
   ],
   "source": [
    "# raw_data_path='./data/Data_Lisbon_20240319.csv'\n",
    "# cleaned_data_path='./data/Hotel_Reviews_Lisbon_20240319.csv'\n",
    "\n",
    "df_filtered = clean_data(raw_data_path = hotel_data_raw,\n",
    "                         cleaned_data_path = hotel_data_cleaned)\n",
    "df_filtered.head()"
   ]
  },
  {
   "cell_type": "code",
   "execution_count": 16,
   "id": "c4824929-ae39-4b87-b3e1-1e54bedb7b41",
   "metadata": {
    "execution": {
     "iopub.execute_input": "2024-03-19T21:50:28.899511Z",
     "iopub.status.busy": "2024-03-19T21:50:28.898513Z",
     "iopub.status.idle": "2024-03-19T21:50:28.979873Z",
     "shell.execute_reply": "2024-03-19T21:50:28.979873Z",
     "shell.execute_reply.started": "2024-03-19T21:50:28.899511Z"
    }
   },
   "outputs": [
    {
     "data": {
      "text/html": [
       "<div>\n",
       "<style scoped>\n",
       "    .dataframe tbody tr th:only-of-type {\n",
       "        vertical-align: middle;\n",
       "    }\n",
       "\n",
       "    .dataframe tbody tr th {\n",
       "        vertical-align: top;\n",
       "    }\n",
       "\n",
       "    .dataframe thead th {\n",
       "        text-align: right;\n",
       "    }\n",
       "</style>\n",
       "<table border=\"1\" class=\"dataframe\">\n",
       "  <thead>\n",
       "    <tr style=\"text-align: right;\">\n",
       "      <th></th>\n",
       "      <th>name</th>\n",
       "      <th>location</th>\n",
       "      <th>Business ID</th>\n",
       "      <th>alias</th>\n",
       "      <th>title</th>\n",
       "      <th>rating</th>\n",
       "      <th>review_count</th>\n",
       "      <th>price</th>\n",
       "      <th>latitude</th>\n",
       "      <th>longitude</th>\n",
       "    </tr>\n",
       "  </thead>\n",
       "  <tbody>\n",
       "    <tr>\n",
       "      <th>0</th>\n",
       "      <td>Hotel Avenida Palace</td>\n",
       "      <td>R. 1º de Dezembro, 123 1200-359 Lisbon Portugal</td>\n",
       "      <td>q-Px_TUI_zLr93xn-1-Ypw</td>\n",
       "      <td>hotels</td>\n",
       "      <td>Hotels</td>\n",
       "      <td>4.6</td>\n",
       "      <td>23</td>\n",
       "      <td></td>\n",
       "      <td>38.714837</td>\n",
       "      <td>-9.141188</td>\n",
       "    </tr>\n",
       "    <tr>\n",
       "      <th>1</th>\n",
       "      <td>Brown's Central</td>\n",
       "      <td>R. da Assunção, 75 1100-042 Lisbon Portugal</td>\n",
       "      <td>yvbBx06xhwEyvXITlGji5g</td>\n",
       "      <td>hotels</td>\n",
       "      <td>Hotels</td>\n",
       "      <td>4.6</td>\n",
       "      <td>16</td>\n",
       "      <td></td>\n",
       "      <td>38.711540</td>\n",
       "      <td>-9.138370</td>\n",
       "    </tr>\n",
       "    <tr>\n",
       "      <th>2</th>\n",
       "      <td>Sheraton Lisboa Hotel &amp; Spa</td>\n",
       "      <td>Rua Latino Coelho, 1 1069-025 Lisbon Portugal</td>\n",
       "      <td>9wTTno6WG7cHlXDDZ00EQw</td>\n",
       "      <td>hotels</td>\n",
       "      <td>Hotels</td>\n",
       "      <td>4.2</td>\n",
       "      <td>53</td>\n",
       "      <td></td>\n",
       "      <td>38.731800</td>\n",
       "      <td>-9.147000</td>\n",
       "    </tr>\n",
       "    <tr>\n",
       "      <th>3</th>\n",
       "      <td>Evolution E.Hotel</td>\n",
       "      <td>Praça Duque de Saldanha, 4 1050-094 Lisbon Por...</td>\n",
       "      <td>fmoWlWBqkVeyFpTtcE09RQ</td>\n",
       "      <td>hotels</td>\n",
       "      <td>Hotels</td>\n",
       "      <td>4.6</td>\n",
       "      <td>13</td>\n",
       "      <td></td>\n",
       "      <td>38.733520</td>\n",
       "      <td>-9.144096</td>\n",
       "    </tr>\n",
       "    <tr>\n",
       "      <th>4</th>\n",
       "      <td>Ritz Four Seasons Hotel</td>\n",
       "      <td>R. Rodrigo da Fonseca, 88 1099-039 Lisbon Port...</td>\n",
       "      <td>DPkYK5RwCkAULtLJp7pOmA</td>\n",
       "      <td>hotels</td>\n",
       "      <td>Hotels</td>\n",
       "      <td>4.6</td>\n",
       "      <td>24</td>\n",
       "      <td></td>\n",
       "      <td>38.725517</td>\n",
       "      <td>-9.155205</td>\n",
       "    </tr>\n",
       "    <tr>\n",
       "      <th>...</th>\n",
       "      <td>...</td>\n",
       "      <td>...</td>\n",
       "      <td>...</td>\n",
       "      <td>...</td>\n",
       "      <td>...</td>\n",
       "      <td>...</td>\n",
       "      <td>...</td>\n",
       "      <td>...</td>\n",
       "      <td>...</td>\n",
       "      <td>...</td>\n",
       "    </tr>\n",
       "    <tr>\n",
       "      <th>465</th>\n",
       "      <td>Residencial Jardim da Amadora</td>\n",
       "      <td>L. do Major Humberto da Cruz, 3 2700-545 Amado...</td>\n",
       "      <td>9gHXEDPvCTVaqBx5iyhMGQ</td>\n",
       "      <td>hotels</td>\n",
       "      <td>Hotels</td>\n",
       "      <td>2.0</td>\n",
       "      <td>1</td>\n",
       "      <td>NaN</td>\n",
       "      <td>38.759892</td>\n",
       "      <td>-9.233510</td>\n",
       "    </tr>\n",
       "    <tr>\n",
       "      <th>466</th>\n",
       "      <td>Hostel B.A.</td>\n",
       "      <td>Travessa da Cara, 6 1º 1200-089 Lisbon Portugal</td>\n",
       "      <td>6T8l_3JF1KIs3XmoWLvdlA</td>\n",
       "      <td>hotels</td>\n",
       "      <td>Hotels</td>\n",
       "      <td>4.0</td>\n",
       "      <td>1</td>\n",
       "      <td>NaN</td>\n",
       "      <td>38.714291</td>\n",
       "      <td>-9.144410</td>\n",
       "    </tr>\n",
       "    <tr>\n",
       "      <th>467</th>\n",
       "      <td>Residencial Joao XXI</td>\n",
       "      <td>Rua Gomes Freire 179 1150-177 Lisbon Portugal</td>\n",
       "      <td>uuXFpHAbn48d0umiVHsfBQ</td>\n",
       "      <td>guesthouses</td>\n",
       "      <td>Guest Houses</td>\n",
       "      <td>2.7</td>\n",
       "      <td>3</td>\n",
       "      <td></td>\n",
       "      <td>38.727389</td>\n",
       "      <td>-9.142117</td>\n",
       "    </tr>\n",
       "    <tr>\n",
       "      <th>468</th>\n",
       "      <td>Hostel 4U</td>\n",
       "      <td>Rua das Pedras Negras, 61 5º 1100-402 Lisbon P...</td>\n",
       "      <td>rGrYfpPzBecx3r8s27azdg</td>\n",
       "      <td>hotels</td>\n",
       "      <td>Hotels</td>\n",
       "      <td>3.3</td>\n",
       "      <td>3</td>\n",
       "      <td></td>\n",
       "      <td>38.710819</td>\n",
       "      <td>-9.135250</td>\n",
       "    </tr>\n",
       "    <tr>\n",
       "      <th>469</th>\n",
       "      <td>Lisbon Amazing Hostels Bairro Alto</td>\n",
       "      <td>Rua do Norte, Nº 83 - 1º 1200-284 Lisbon Portugal</td>\n",
       "      <td>a4x9K2UTSwLdDFe87WxmKg</td>\n",
       "      <td>hotels</td>\n",
       "      <td>Hotels</td>\n",
       "      <td>3.0</td>\n",
       "      <td>1</td>\n",
       "      <td>NaN</td>\n",
       "      <td>38.712029</td>\n",
       "      <td>-9.143800</td>\n",
       "    </tr>\n",
       "  </tbody>\n",
       "</table>\n",
       "<p>470 rows × 10 columns</p>\n",
       "</div>"
      ],
      "text/plain": [
       "                                   name  \\\n",
       "0                  Hotel Avenida Palace   \n",
       "1                       Brown's Central   \n",
       "2           Sheraton Lisboa Hotel & Spa   \n",
       "3                     Evolution E.Hotel   \n",
       "4               Ritz Four Seasons Hotel   \n",
       "..                                  ...   \n",
       "465       Residencial Jardim da Amadora   \n",
       "466                         Hostel B.A.   \n",
       "467                Residencial Joao XXI   \n",
       "468                           Hostel 4U   \n",
       "469  Lisbon Amazing Hostels Bairro Alto   \n",
       "\n",
       "                                              location  \\\n",
       "0      R. 1º de Dezembro, 123 1200-359 Lisbon Portugal   \n",
       "1          R. da Assunção, 75 1100-042 Lisbon Portugal   \n",
       "2        Rua Latino Coelho, 1 1069-025 Lisbon Portugal   \n",
       "3    Praça Duque de Saldanha, 4 1050-094 Lisbon Por...   \n",
       "4    R. Rodrigo da Fonseca, 88 1099-039 Lisbon Port...   \n",
       "..                                                 ...   \n",
       "465  L. do Major Humberto da Cruz, 3 2700-545 Amado...   \n",
       "466    Travessa da Cara, 6 1º 1200-089 Lisbon Portugal   \n",
       "467      Rua Gomes Freire 179 1150-177 Lisbon Portugal   \n",
       "468  Rua das Pedras Negras, 61 5º 1100-402 Lisbon P...   \n",
       "469  Rua do Norte, Nº 83 - 1º 1200-284 Lisbon Portugal   \n",
       "\n",
       "                Business ID        alias         title  rating  review_count  \\\n",
       "0    q-Px_TUI_zLr93xn-1-Ypw       hotels        Hotels     4.6            23   \n",
       "1    yvbBx06xhwEyvXITlGji5g       hotels        Hotels     4.6            16   \n",
       "2    9wTTno6WG7cHlXDDZ00EQw       hotels        Hotels     4.2            53   \n",
       "3    fmoWlWBqkVeyFpTtcE09RQ       hotels        Hotels     4.6            13   \n",
       "4    DPkYK5RwCkAULtLJp7pOmA       hotels        Hotels     4.6            24   \n",
       "..                      ...          ...           ...     ...           ...   \n",
       "465  9gHXEDPvCTVaqBx5iyhMGQ       hotels        Hotels     2.0             1   \n",
       "466  6T8l_3JF1KIs3XmoWLvdlA       hotels        Hotels     4.0             1   \n",
       "467  uuXFpHAbn48d0umiVHsfBQ  guesthouses  Guest Houses     2.7             3   \n",
       "468  rGrYfpPzBecx3r8s27azdg       hotels        Hotels     3.3             3   \n",
       "469  a4x9K2UTSwLdDFe87WxmKg       hotels        Hotels     3.0             1   \n",
       "\n",
       "    price   latitude  longitude  \n",
       "0       38.714837  -9.141188  \n",
       "1        38.711540  -9.138370  \n",
       "2       38.731800  -9.147000  \n",
       "3        38.733520  -9.144096  \n",
       "4      38.725517  -9.155205  \n",
       "..    ...        ...        ...  \n",
       "465   NaN  38.759892  -9.233510  \n",
       "466   NaN  38.714291  -9.144410  \n",
       "467      38.727389  -9.142117  \n",
       "468      38.710819  -9.135250  \n",
       "469   NaN  38.712029  -9.143800  \n",
       "\n",
       "[470 rows x 10 columns]"
      ]
     },
     "execution_count": 16,
     "metadata": {},
     "output_type": "execute_result"
    }
   ],
   "source": [
    "pd.read_csv(hotel_data_cleaned)"
   ]
  },
  {
   "cell_type": "code",
   "execution_count": null,
   "id": "1444e161-8cfd-4ef5-a90e-8e27a22348c0",
   "metadata": {},
   "outputs": [],
   "source": []
  }
 ],
 "metadata": {
  "kernelspec": {
   "display_name": "Python (dojo-env)",
   "language": "python",
   "name": "dojo-env"
  },
  "language_info": {
   "codemirror_mode": {
    "name": "ipython",
    "version": 3
   },
   "file_extension": ".py",
   "mimetype": "text/x-python",
   "name": "python",
   "nbconvert_exporter": "python",
   "pygments_lexer": "ipython3",
   "version": "3.10.10"
  },
  "widgets": {
   "application/vnd.jupyter.widget-state+json": {
    "state": {},
    "version_major": 2,
    "version_minor": 0
   }
  }
 },
 "nbformat": 4,
 "nbformat_minor": 5
}
