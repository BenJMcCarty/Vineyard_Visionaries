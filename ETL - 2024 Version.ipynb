{
 "cells": [
  {
   "cell_type": "markdown",
   "metadata": {},
   "source": [
    "# Getting Your Data From Yelp!"
   ]
  },
  {
   "cell_type": "markdown",
   "metadata": {},
   "source": [
    "In order to make sure you are on track to completing the project, you will complete this workbook first. Below are steps that you need to take in order to make sure you have your data from yelp and are ready to analyze it. Your cohort lead will review this workbook with you the Wednesday before your project is due.    "
   ]
  },
  {
   "cell_type": "markdown",
   "metadata": {},
   "source": [
    "# Part 1 - Understanding your data and question"
   ]
  },
  {
   "cell_type": "markdown",
   "metadata": {},
   "source": [
    "You will be pulling data from the Yelp API to complete your analysis. The API, however, provides you with a lot of information that will not be pertinent to your analysis. You will pull data from the API and parse through it to keep only the data that you will need. In order to help you identify that information,look at the API documentation and understand what data the API will provide you. \n",
    "\n",
    "Identify which data fields you will want to keep for your analysis. \n",
    "\n",
    "https://www.yelp.com/developers/documentation/v3/get_started"
   ]
  },
  {
   "cell_type": "markdown",
   "metadata": {},
   "source": [
    "# Part 2 - Create ETL pipeline for the business data from the API"
   ]
  },
  {
   "cell_type": "markdown",
   "metadata": {},
   "source": [
    "## Details"
   ]
  },
  {
   "cell_type": "markdown",
   "metadata": {},
   "source": [
    "Now that you know what data you need from the API, you want to write code that will execute an API call, parse those results and then insert the results into the DB.  \n",
    "\n",
    "It is helpful to break this up into three different functions (*API call, parse results, and insert into DB*) and then you can write a function/script that pull the other three functions together. \n",
    "\n",
    "Let's first do this for the Business endpoint."
   ]
  },
  {
   "cell_type": "markdown",
   "metadata": {},
   "source": [
    "## Request"
   ]
  },
  {
   "cell_type": "markdown",
   "metadata": {},
   "source": [
    "### Imports and Setup"
   ]
  },
  {
   "cell_type": "code",
   "execution_count": 35,
   "metadata": {
    "ExecuteTime": {
     "end_time": "2021-05-13T18:49:23.094040Z",
     "start_time": "2021-05-13T18:49:21.556038Z"
    },
    "code_folding": [],
    "execution": {
     "iopub.execute_input": "2024-03-13T02:48:28.727703Z",
     "iopub.status.busy": "2024-03-13T02:48:28.726705Z",
     "iopub.status.idle": "2024-03-13T02:48:28.736837Z",
     "shell.execute_reply": "2024-03-13T02:48:28.735837Z",
     "shell.execute_reply.started": "2024-03-13T02:48:28.727703Z"
    }
   },
   "outputs": [],
   "source": [
    "import requests\n",
    "import pandas as pd\n",
    "import json\n",
    "import csv\n",
    "import numpy as np\n",
    "import seaborn as sns\n",
    "import matplotlib.pyplot as plt"
   ]
  },
  {
   "cell_type": "code",
   "execution_count": 36,
   "metadata": {
    "ExecuteTime": {
     "end_time": "2021-05-13T18:49:23.094040Z",
     "start_time": "2021-05-13T18:49:21.556038Z"
    },
    "code_folding": [],
    "execution": {
     "iopub.execute_input": "2024-03-13T02:48:28.737837Z",
     "iopub.status.busy": "2024-03-13T02:48:28.737837Z",
     "iopub.status.idle": "2024-03-13T02:48:28.751988Z",
     "shell.execute_reply": "2024-03-13T02:48:28.750992Z",
     "shell.execute_reply.started": "2024-03-13T02:48:28.737837Z"
    }
   },
   "outputs": [],
   "source": [
    "with open('.secrets.json') as f:\n",
    "    keys = json.load(f)\n",
    "\n",
    "client_id = keys['Client_ID']\n",
    "yelp_key = keys['api_key']"
   ]
  },
  {
   "cell_type": "markdown",
   "metadata": {},
   "source": [
    "### ƒ: yelp_request"
   ]
  },
  {
   "cell_type": "markdown",
   "metadata": {
    "ExecuteTime": {
     "end_time": "2021-05-10T15:58:43.341776Z",
     "start_time": "2021-05-10T15:58:43.321768Z"
    }
   },
   "source": [
    " - Params: search term (eg. \"wineries); location; yelp_key variable (from Imports); and changing setting to print details"
   ]
  },
  {
   "cell_type": "code",
   "execution_count": 37,
   "metadata": {
    "ExecuteTime": {
     "end_time": "2021-05-13T18:49:23.110043Z",
     "start_time": "2021-05-13T18:49:23.097040Z"
    },
    "code_folding": [],
    "execution": {
     "iopub.execute_input": "2024-03-13T02:48:28.752988Z",
     "iopub.status.busy": "2024-03-13T02:48:28.752988Z",
     "iopub.status.idle": "2024-03-13T02:48:28.766995Z",
     "shell.execute_reply": "2024-03-13T02:48:28.766995Z",
     "shell.execute_reply.started": "2024-03-13T02:48:28.752988Z"
    }
   },
   "outputs": [],
   "source": [
    "# def yelp_request(term, location, yelp_key, verbose=True):\n",
    "#     '''Adapted from Yelp API Lab: https://github.com/BenJMcCarty/dsc-yelp-api-lab/tree/solution'''\n",
    "    \n",
    "#     url = 'https://api.yelp.com/v3/businesses/search'\n",
    "\n",
    "#     headers = {\n",
    "#             'Authorization': 'Bearer {}'.format(yelp_key),\n",
    "#         }\n",
    "\n",
    "#     url_params = {\n",
    "#                     'term': term.replace(' ', '+'),\n",
    "#                     'location': location.replace(' ', '+'),\n",
    "#                     'limit': 50\n",
    "#                 }\n",
    "#     response = requests.get(url, headers=headers, params=url_params)\n",
    "    \n",
    "#     if verbose == True:\n",
    "#         print(response)\n",
    "#         print(type(response.text))\n",
    "#         print(response.text[:1000])\n",
    "        \n",
    "#     return response.json()"
   ]
  },
  {
   "cell_type": "code",
   "execution_count": 38,
   "metadata": {
    "execution": {
     "iopub.execute_input": "2024-03-13T02:48:28.769004Z",
     "iopub.status.busy": "2024-03-13T02:48:28.769004Z",
     "iopub.status.idle": "2024-03-13T02:48:28.783405Z",
     "shell.execute_reply": "2024-03-13T02:48:28.782990Z",
     "shell.execute_reply.started": "2024-03-13T02:48:28.769004Z"
    }
   },
   "outputs": [],
   "source": [
    "## Adapted from code generated by ChatGPT - revised original function.\n",
    "\n",
    "def yelp_request(term: str, location: str, yelp_key: str, verbose: bool = True) -> dict:\n",
    "    \"\"\"\n",
    "    Make a request to the Yelp API to search for businesses.\n",
    "\n",
    "    Parameters:\n",
    "    - term (str): The search term to query.\n",
    "    - location (str): The location to search within.\n",
    "    - yelp_key (str): Your Yelp API key.\n",
    "    - verbose (bool): Whether to print verbose output. Default is True.\n",
    "\n",
    "    Returns:\n",
    "    - dict: A dictionary containing the JSON response from the Yelp API.\n",
    "    \"\"\"\n",
    "\n",
    "    url = 'https://api.yelp.com/v3/businesses/search'\n",
    "\n",
    "    headers = {\n",
    "        'Authorization': f'Bearer {yelp_key}',\n",
    "    }\n",
    "\n",
    "    url_params = {\n",
    "        'term': term.replace(' ', '+'),\n",
    "        'location': location.replace(' ', '+'),\n",
    "        'limit': 50\n",
    "    }\n",
    "\n",
    "    try:\n",
    "        response = requests.get(url, headers=headers, params=url_params)\n",
    "        response.raise_for_status()  # Raise an exception for 4XX or 5XX status codes\n",
    "        if verbose:\n",
    "            print(response)\n",
    "            print(type(response.text))\n",
    "            print(response.text[:1000])\n",
    "        return response.json()\n",
    "    except requests.exceptions.RequestException as e:\n",
    "        print(f\"Error: {e}\")\n",
    "        return {}\n"
   ]
  },
  {
   "cell_type": "markdown",
   "metadata": {
    "ExecuteTime": {
     "end_time": "2021-05-10T19:44:09.881783Z",
     "start_time": "2021-05-10T19:44:09.868735Z"
    }
   },
   "source": [
    "### Sending the request\n"
   ]
  },
  {
   "cell_type": "markdown",
   "metadata": {},
   "source": [
    "- Un-comment the next line to run the response"
   ]
  },
  {
   "cell_type": "code",
   "execution_count": 39,
   "metadata": {
    "ExecuteTime": {
     "end_time": "2021-05-13T18:49:23.126082Z",
     "start_time": "2021-05-13T18:49:23.113041Z"
    },
    "execution": {
     "iopub.execute_input": "2024-03-13T02:48:28.783405Z",
     "iopub.status.busy": "2024-03-13T02:48:28.783405Z",
     "iopub.status.idle": "2024-03-13T02:48:28.790128Z",
     "shell.execute_reply": "2024-03-13T02:48:28.789326Z",
     "shell.execute_reply.started": "2024-03-13T02:48:28.783405Z"
    },
    "scrolled": true
   },
   "outputs": [],
   "source": [
    "# response = yelp_request('winery','Southern California', yelp_key)\n",
    "# response.keys()"
   ]
  },
  {
   "cell_type": "markdown",
   "metadata": {},
   "source": [
    "### Identifying and Exploring Keys"
   ]
  },
  {
   "cell_type": "code",
   "execution_count": 40,
   "metadata": {
    "ExecuteTime": {
     "end_time": "2021-05-13T18:49:23.142072Z",
     "start_time": "2021-05-13T18:49:23.129037Z"
    },
    "execution": {
     "iopub.execute_input": "2024-03-13T02:48:28.791135Z",
     "iopub.status.busy": "2024-03-13T02:48:28.791135Z",
     "iopub.status.idle": "2024-03-13T02:48:28.806134Z",
     "shell.execute_reply": "2024-03-13T02:48:28.805133Z",
     "shell.execute_reply.started": "2024-03-13T02:48:28.791135Z"
    }
   },
   "outputs": [],
   "source": [
    "# # Identify keys\n",
    "\n",
    "# print(response.keys())"
   ]
  },
  {
   "cell_type": "markdown",
   "metadata": {},
   "source": [
    "#### Exploring the \"Businesses\" Key"
   ]
  },
  {
   "cell_type": "code",
   "execution_count": 41,
   "metadata": {
    "ExecuteTime": {
     "end_time": "2021-05-13T18:49:23.158083Z",
     "start_time": "2021-05-13T18:49:23.145043Z"
    },
    "execution": {
     "iopub.execute_input": "2024-03-13T02:48:28.807367Z",
     "iopub.status.busy": "2024-03-13T02:48:28.807367Z",
     "iopub.status.idle": "2024-03-13T02:48:28.822064Z",
     "shell.execute_reply": "2024-03-13T02:48:28.821937Z",
     "shell.execute_reply.started": "2024-03-13T02:48:28.807367Z"
    }
   },
   "outputs": [],
   "source": [
    "# response['businesses']"
   ]
  },
  {
   "cell_type": "code",
   "execution_count": 42,
   "metadata": {
    "ExecuteTime": {
     "end_time": "2021-05-13T18:49:23.174067Z",
     "start_time": "2021-05-13T18:49:23.160040Z"
    },
    "code_folding": [],
    "execution": {
     "iopub.execute_input": "2024-03-13T02:48:28.824528Z",
     "iopub.status.busy": "2024-03-13T02:48:28.824239Z",
     "iopub.status.idle": "2024-03-13T02:48:28.827922Z",
     "shell.execute_reply": "2024-03-13T02:48:28.827922Z",
     "shell.execute_reply.started": "2024-03-13T02:48:28.824528Z"
    },
    "scrolled": true
   },
   "outputs": [],
   "source": [
    "# # Show first item w/in list of businesses\n",
    "\n",
    "# response['businesses'][0]"
   ]
  },
  {
   "cell_type": "code",
   "execution_count": 43,
   "metadata": {
    "ExecuteTime": {
     "end_time": "2021-05-13T18:49:23.190067Z",
     "start_time": "2021-05-13T18:49:23.176038Z"
    },
    "execution": {
     "iopub.execute_input": "2024-03-13T02:48:28.828971Z",
     "iopub.status.busy": "2024-03-13T02:48:28.828971Z",
     "iopub.status.idle": "2024-03-13T02:48:28.852140Z",
     "shell.execute_reply": "2024-03-13T02:48:28.851108Z",
     "shell.execute_reply.started": "2024-03-13T02:48:28.828971Z"
    }
   },
   "outputs": [],
   "source": [
    "# response['businesses'][0]['categories'][0]['alias']"
   ]
  },
  {
   "cell_type": "code",
   "execution_count": 44,
   "metadata": {
    "ExecuteTime": {
     "end_time": "2021-05-13T18:49:23.206036Z",
     "start_time": "2021-05-13T18:49:23.195038Z"
    },
    "execution": {
     "iopub.execute_input": "2024-03-13T02:48:28.855590Z",
     "iopub.status.busy": "2024-03-13T02:48:28.854583Z",
     "iopub.status.idle": "2024-03-13T02:48:28.869314Z",
     "shell.execute_reply": "2024-03-13T02:48:28.868899Z",
     "shell.execute_reply.started": "2024-03-13T02:48:28.855590Z"
    }
   },
   "outputs": [],
   "source": [
    "# response['businesses'][0]['categories'][0]['title']"
   ]
  },
  {
   "cell_type": "markdown",
   "metadata": {},
   "source": [
    "#### Exploring the \"Total\" Key"
   ]
  },
  {
   "cell_type": "code",
   "execution_count": 45,
   "metadata": {
    "ExecuteTime": {
     "end_time": "2021-05-13T18:49:23.222069Z",
     "start_time": "2021-05-13T18:49:23.209038Z"
    },
    "execution": {
     "iopub.execute_input": "2024-03-13T02:48:28.870314Z",
     "iopub.status.busy": "2024-03-13T02:48:28.870314Z",
     "iopub.status.idle": "2024-03-13T02:48:28.883889Z",
     "shell.execute_reply": "2024-03-13T02:48:28.882986Z",
     "shell.execute_reply.started": "2024-03-13T02:48:28.870314Z"
    }
   },
   "outputs": [],
   "source": [
    "# response['total']\n",
    "\n",
    "# # How many businesses are there in total for my request?"
   ]
  },
  {
   "cell_type": "markdown",
   "metadata": {},
   "source": [
    "#### Exploring the \"Region\" Key"
   ]
  },
  {
   "cell_type": "code",
   "execution_count": 46,
   "metadata": {
    "ExecuteTime": {
     "end_time": "2021-05-13T18:49:23.238040Z",
     "start_time": "2021-05-13T18:49:23.226041Z"
    },
    "execution": {
     "iopub.execute_input": "2024-03-13T02:48:28.885405Z",
     "iopub.status.busy": "2024-03-13T02:48:28.885405Z",
     "iopub.status.idle": "2024-03-13T02:48:28.901071Z",
     "shell.execute_reply": "2024-03-13T02:48:28.899969Z",
     "shell.execute_reply.started": "2024-03-13T02:48:28.885405Z"
    }
   },
   "outputs": [],
   "source": [
    "# response['region']\n",
    "\n",
    "# # From which geographical area will my results come?"
   ]
  },
  {
   "cell_type": "markdown",
   "metadata": {},
   "source": [
    "## Parse"
   ]
  },
  {
   "cell_type": "markdown",
   "metadata": {
    "ExecuteTime": {
     "end_time": "2021-05-10T21:41:29.180856Z",
     "start_time": "2021-05-10T21:41:29.173856Z"
    }
   },
   "source": [
    "### ƒ: parse_data"
   ]
  },
  {
   "cell_type": "code",
   "execution_count": 47,
   "metadata": {
    "ExecuteTime": {
     "end_time": "2021-05-13T18:49:23.253038Z",
     "start_time": "2021-05-13T18:49:23.241039Z"
    },
    "code_folding": [],
    "execution": {
     "iopub.execute_input": "2024-03-13T02:48:28.902115Z",
     "iopub.status.busy": "2024-03-13T02:48:28.902115Z",
     "iopub.status.idle": "2024-03-13T02:48:28.917966Z",
     "shell.execute_reply": "2024-03-13T02:48:28.917966Z",
     "shell.execute_reply.started": "2024-03-13T02:48:28.902115Z"
    }
   },
   "outputs": [],
   "source": [
    "# def parse_data(list_of_data):\n",
    "#     '''Adapted from Tyrell's code'''  \n",
    "\n",
    "#     # Create empty list to store results\n",
    "    \n",
    "#     parsed_data = []\n",
    "    \n",
    "#     # Loop through each business in the list of businesses\n",
    "#     # Add specific k:v pairs to a dictionary\n",
    "    \n",
    "#     for business in list_of_data:\n",
    "#         if 'price' not in business:\n",
    "#             business['price'] = np.nan\n",
    "            \n",
    "#             # Verify that the \"price\" key is in the selected business dict\n",
    "            \n",
    "#         details = {'name': business['name'],\n",
    "#                      'location': ' '.join(business['location']['display_address']),\n",
    "#                      'Business ID': business['id'],\n",
    "#                      'alias': business['categories'][0]['alias'],\n",
    "#                      'title': business['categories'][0]['title'],\n",
    "#                      'rating': business['rating'],\n",
    "#                      'review_count': business['review_count'],\n",
    "#                      'price': business['price'],\n",
    "#                      'latitude': business['coordinates']['latitude'],\n",
    "#                      'longitude': business['coordinates']['longitude']\n",
    "#                     }\n",
    "#         # Add the new dictionary to the previous list\n",
    "        \n",
    "#         parsed_data.append(details)\n",
    "    \n",
    "#     # Create a DataFrame from the resulting list\n",
    "    \n",
    "#     df_parsed_data = pd.DataFrame(parsed_data)\n",
    "\n",
    "    \n",
    "#     return df_parsed_data"
   ]
  },
  {
   "cell_type": "code",
   "execution_count": 48,
   "metadata": {
    "execution": {
     "iopub.execute_input": "2024-03-13T02:48:28.919971Z",
     "iopub.status.busy": "2024-03-13T02:48:28.918968Z",
     "iopub.status.idle": "2024-03-13T02:48:28.934519Z",
     "shell.execute_reply": "2024-03-13T02:48:28.933505Z",
     "shell.execute_reply.started": "2024-03-13T02:48:28.919971Z"
    }
   },
   "outputs": [],
   "source": [
    "## Adapted from code generated by ChatGPT - revised original function.\n",
    "\n",
    "def parse_data(list_of_data: list) -> pd.DataFrame:\n",
    "    \"\"\"\n",
    "    Parse a list of business data into a DataFrame.\n",
    "\n",
    "    Parameters:\n",
    "    - list_of_data (list): A list containing dictionaries of business data.\n",
    "\n",
    "    Returns:\n",
    "    - pd.DataFrame: A DataFrame containing parsed business data.\n",
    "    \"\"\"\n",
    "\n",
    "    parsed_data = []\n",
    "\n",
    "    for business in list_of_data:\n",
    "        # Handle missing or nested keys gracefully\n",
    "        price = business.get('price', np.nan)\n",
    "\n",
    "        # Avoid hardcoding category index\n",
    "        if 'categories' in business and business['categories']:\n",
    "            category = business['categories'][0]\n",
    "            alias = category.get('alias', '')\n",
    "            title = category.get('title', '')\n",
    "        else:\n",
    "            alias = ''\n",
    "            title = ''\n",
    "\n",
    "        details = {\n",
    "            'name': business.get('name', ''),\n",
    "            'location': ' '.join(business['location']['display_address']) if 'location' in business else '',\n",
    "            'Business ID': business.get('id', ''),\n",
    "            'alias': alias,\n",
    "            'title': title,\n",
    "            'rating': business.get('rating', np.nan),\n",
    "            'review_count': business.get('review_count', np.nan),\n",
    "            'price': price,\n",
    "            'latitude': business['coordinates']['latitude'] if 'coordinates' in business else np.nan,\n",
    "            'longitude': business['coordinates']['longitude'] if 'coordinates' in business else np.nan\n",
    "        }\n",
    "        parsed_data.append(details)\n",
    "\n",
    "    df_parsed_data = pd.DataFrame(parsed_data)\n",
    "\n",
    "    return df_parsed_data\n"
   ]
  },
  {
   "cell_type": "markdown",
   "metadata": {
    "ExecuteTime": {
     "end_time": "2021-05-10T22:37:53.049725Z",
     "start_time": "2021-05-10T22:37:53.042727Z"
    }
   },
   "source": [
    "## Updating Requests for Pagination"
   ]
  },
  {
   "cell_type": "markdown",
   "metadata": {},
   "source": [
    "### ƒ: yelp_request_offset"
   ]
  },
  {
   "cell_type": "code",
   "execution_count": 49,
   "metadata": {
    "ExecuteTime": {
     "end_time": "2021-05-13T18:49:23.268037Z",
     "start_time": "2021-05-13T18:49:23.257037Z"
    },
    "code_folding": [],
    "execution": {
     "iopub.execute_input": "2024-03-13T02:48:28.935993Z",
     "iopub.status.busy": "2024-03-13T02:48:28.934984Z",
     "iopub.status.idle": "2024-03-13T02:48:28.950164Z",
     "shell.execute_reply": "2024-03-13T02:48:28.949778Z",
     "shell.execute_reply.started": "2024-03-13T02:48:28.935993Z"
    }
   },
   "outputs": [],
   "source": [
    "# def yelp_request_offset(term, location, yelp_key, offset=0, verbose=False):\n",
    "#     '''Adapted from Yelp API Lab: https://github.com/BenJMcCarty/dsc-yelp-api-lab/tree/solution'''\n",
    "    \n",
    "#     url = 'https://api.yelp.com/v3/businesses/search'\n",
    "\n",
    "#     headers = {\n",
    "#             'Authorization': 'Bearer {}'.format(yelp_key),\n",
    "#         }\n",
    "\n",
    "#     url_params = {\n",
    "#                     'term': term.replace(' ', '+'),\n",
    "#                     'location': location.replace(' ', '+'),\n",
    "#                     'limit': 50,\n",
    "#                     'offset': offset\n",
    "#                         }\n",
    "    \n",
    "#     response = requests.get(url, headers=headers, params=url_params)\n",
    "    \n",
    "#     if verbose == True:\n",
    "#         print(response)\n",
    "#         print(type(response.text))\n",
    "#         print(response.text[:1000])\n",
    "        \n",
    "#     return response.json()"
   ]
  },
  {
   "cell_type": "code",
   "execution_count": 50,
   "metadata": {
    "execution": {
     "iopub.execute_input": "2024-03-13T02:48:28.952656Z",
     "iopub.status.busy": "2024-03-13T02:48:28.951631Z",
     "iopub.status.idle": "2024-03-13T02:48:28.967144Z",
     "shell.execute_reply": "2024-03-13T02:48:28.966245Z",
     "shell.execute_reply.started": "2024-03-13T02:48:28.952656Z"
    }
   },
   "outputs": [],
   "source": [
    "## Adapted from code generated by ChatGPT - revised original function.\n",
    "\n",
    "def yelp_request_offset(term: str, location: str, yelp_key: str, offset: int = 0, verbose: bool = False) -> dict:\n",
    "    \"\"\"\n",
    "    Make a request to the Yelp API to search for businesses with an offset.\n",
    "\n",
    "    Parameters:\n",
    "    - term (str): The search term to query.\n",
    "    - location (str): The location to search within.\n",
    "    - yelp_key (str): Your Yelp API key.\n",
    "    - offset (int): The offset for paginating results. Default is 0.\n",
    "    - verbose (bool): Whether to print verbose output. Default is False.\n",
    "\n",
    "    Returns:\n",
    "    - dict: A dictionary containing the JSON response from the Yelp API.\n",
    "    \"\"\"\n",
    "\n",
    "    url = 'https://api.yelp.com/v3/businesses/search'\n",
    "\n",
    "    headers = {\n",
    "        'Authorization': f'Bearer {yelp_key}',\n",
    "    }\n",
    "\n",
    "    url_params = {\n",
    "        'term': term.replace(' ', '+'),\n",
    "        'location': location.replace(' ', '+'),\n",
    "        'limit': 50,\n",
    "        'offset': offset\n",
    "    }\n",
    "\n",
    "    try:\n",
    "        response = requests.get(url, headers=headers, params=url_params)\n",
    "        response.raise_for_status()  # Raise an exception for 4XX or 5XX status codes\n",
    "        if verbose:\n",
    "            print(response)\n",
    "            print(type(response.text))\n",
    "            print(response.text[:1000])\n",
    "        return response.json()\n",
    "    except requests.exceptions.RequestException as e:\n",
    "        print(f\"Error: {e}\")\n",
    "        return {}"
   ]
  },
  {
   "cell_type": "markdown",
   "metadata": {
    "ExecuteTime": {
     "end_time": "2021-05-10T21:52:21.177479Z",
     "start_time": "2021-05-10T21:52:21.167481Z"
    }
   },
   "source": [
    "#### Test 1"
   ]
  },
  {
   "cell_type": "code",
   "execution_count": 51,
   "metadata": {
    "ExecuteTime": {
     "end_time": "2021-05-13T18:49:23.283047Z",
     "start_time": "2021-05-13T18:49:23.271041Z"
    },
    "execution": {
     "iopub.execute_input": "2024-03-13T02:48:28.968252Z",
     "iopub.status.busy": "2024-03-13T02:48:28.968252Z",
     "iopub.status.idle": "2024-03-13T02:48:28.973332Z",
     "shell.execute_reply": "2024-03-13T02:48:28.973242Z",
     "shell.execute_reply.started": "2024-03-13T02:48:28.968252Z"
    }
   },
   "outputs": [],
   "source": [
    "# test1 = yelp_request_offset('winery', 'San Diego', yelp_key)\n",
    "# test1"
   ]
  },
  {
   "cell_type": "code",
   "execution_count": 52,
   "metadata": {
    "ExecuteTime": {
     "end_time": "2021-05-13T18:49:23.298037Z",
     "start_time": "2021-05-13T18:49:23.285039Z"
    },
    "execution": {
     "iopub.execute_input": "2024-03-13T02:48:28.975338Z",
     "iopub.status.busy": "2024-03-13T02:48:28.974338Z",
     "iopub.status.idle": "2024-03-13T02:48:28.983352Z",
     "shell.execute_reply": "2024-03-13T02:48:28.982415Z",
     "shell.execute_reply.started": "2024-03-13T02:48:28.975338Z"
    }
   },
   "outputs": [],
   "source": [
    "# test1.keys()"
   ]
  },
  {
   "cell_type": "code",
   "execution_count": 53,
   "metadata": {
    "ExecuteTime": {
     "end_time": "2021-05-13T18:49:23.313037Z",
     "start_time": "2021-05-13T18:49:23.300039Z"
    },
    "execution": {
     "iopub.execute_input": "2024-03-13T02:48:28.984518Z",
     "iopub.status.busy": "2024-03-13T02:48:28.984518Z",
     "iopub.status.idle": "2024-03-13T02:48:29.000190Z",
     "shell.execute_reply": "2024-03-13T02:48:28.999358Z",
     "shell.execute_reply.started": "2024-03-13T02:48:28.984518Z"
    },
    "scrolled": true
   },
   "outputs": [],
   "source": [
    "# test1['total']"
   ]
  },
  {
   "cell_type": "code",
   "execution_count": 54,
   "metadata": {
    "ExecuteTime": {
     "end_time": "2021-05-13T18:49:23.329038Z",
     "start_time": "2021-05-13T18:49:23.315039Z"
    },
    "execution": {
     "iopub.execute_input": "2024-03-13T02:48:29.001026Z",
     "iopub.status.busy": "2024-03-13T02:48:29.001026Z",
     "iopub.status.idle": "2024-03-13T02:48:29.016233Z",
     "shell.execute_reply": "2024-03-13T02:48:29.016018Z",
     "shell.execute_reply.started": "2024-03-13T02:48:29.001026Z"
    }
   },
   "outputs": [],
   "source": [
    "# test1['businesses'][0]"
   ]
  },
  {
   "cell_type": "markdown",
   "metadata": {},
   "source": [
    "# ƒ: GET BUSINESSES (ALL)"
   ]
  },
  {
   "cell_type": "code",
   "execution_count": 55,
   "metadata": {
    "ExecuteTime": {
     "end_time": "2021-05-13T18:49:23.345071Z",
     "start_time": "2021-05-13T18:49:23.331039Z"
    },
    "code_folding": [],
    "execution": {
     "iopub.execute_input": "2024-03-13T02:48:29.018411Z",
     "iopub.status.busy": "2024-03-13T02:48:29.017941Z",
     "iopub.status.idle": "2024-03-13T02:48:29.032289Z",
     "shell.execute_reply": "2024-03-13T02:48:29.031286Z",
     "shell.execute_reply.started": "2024-03-13T02:48:29.018411Z"
    }
   },
   "outputs": [],
   "source": [
    "# def get_full_data(term, location, yelp_key, file_name = 'data/wineries_raw.csv'):\n",
    "#     '''Requests all results from Yelp API; saves as a .csv; and returns a DataFrame.'''\n",
    "\n",
    "#     # Create a .csv to store results\n",
    "#     blank_df = pd.DataFrame()\n",
    "#     blank_df.to_csv(file_name)\n",
    "    \n",
    "#     # Process first request to Yelp API and calculate number of pages \n",
    "#     results = yelp_request_offset(term, location, yelp_key, offset=0, \n",
    "#                                   verbose=False)\n",
    "#     num_pages = results['total']//50+1\n",
    "    \n",
    "#     # Print out confirmation feedback\n",
    "#     print(f'For {term} and {location}: ')\n",
    "#     print(f\"    Total number of results: {results['total']}.\")\n",
    "#     print(f'    Total number of pages: {num_pages}.')\n",
    "    \n",
    "#     # Create offset for additional results\n",
    "#     offset = 0\n",
    "\n",
    "#     # Retrieves remaining pages\n",
    "#     for num in range(num_pages-1):\n",
    "#         try:\n",
    "#             # Process API request\n",
    "#             results = yelp_request_offset(term, location, yelp_key,\n",
    "#                                           offset=offset, verbose=False)\n",
    "            \n",
    "#             # From results, take values from \"Businesses\" key and save\n",
    "#             parsed_results = parse_data(results['businesses'])\n",
    "          \n",
    "#             # Save resulting DF to .csv from top\n",
    "#             parsed_results.to_csv(file_name, mode='a', index = False)\n",
    "            \n",
    "#             # Increase offset to move to next \"page\" of data\n",
    "#             offset += 50\n",
    "            \n",
    "#         except:\n",
    "#             # If error, print where the error happens\n",
    "#             print(f'Error on page {num}.')\n",
    "#             # Then save the results so far to the .csv\n",
    "#             parsed_results.to_csv(file_name, mode='a', index = False)\n",
    "\n",
    "\n",
    "#     return parsed_results"
   ]
  },
  {
   "cell_type": "code",
   "execution_count": 56,
   "metadata": {
    "execution": {
     "iopub.execute_input": "2024-03-13T02:48:29.033289Z",
     "iopub.status.busy": "2024-03-13T02:48:29.033289Z",
     "iopub.status.idle": "2024-03-13T02:48:29.050261Z",
     "shell.execute_reply": "2024-03-13T02:48:29.049973Z",
     "shell.execute_reply.started": "2024-03-13T02:48:29.033289Z"
    }
   },
   "outputs": [],
   "source": [
    "## Adapted from code generated by ChatGPT - revised original function.\n",
    "\n",
    "def get_full_data(term: str, location: str, yelp_key: str, file_name: str = 'data/wineries_raw.csv') -> pd.DataFrame:\n",
    "    \"\"\"\n",
    "    Requests all results from Yelp API, saves as a .csv, and returns a DataFrame.\n",
    "\n",
    "    Parameters:\n",
    "    - term (str): The search term to query.\n",
    "    - location (str): The location to search within.\n",
    "    - yelp_key (str): Your Yelp API key.\n",
    "    - file_name (str): The filename for the CSV file to save the data. Default is 'data/wineries_raw.csv'.\n",
    "\n",
    "    Returns:\n",
    "    - pd.DataFrame: A DataFrame containing parsed business data.\n",
    "    \"\"\"\n",
    "\n",
    "    try:\n",
    "        # Check if the file already exists\n",
    "        with open(file_name, 'x'):\n",
    "            pass\n",
    "    except FileExistsError:\n",
    "        print(f\"File '{file_name}' already exists.\")\n",
    "\n",
    "    # Process first request to Yelp API and calculate number of pages \n",
    "    results = yelp_request_offset(term, location, yelp_key, offset=0, verbose=False)\n",
    "    num_pages = (results.get('total', 0) // 50) + 1\n",
    "    \n",
    "    # Print out confirmation feedback\n",
    "    print(f'For {term} and {location}: ')\n",
    "    print(f\"    Total number of results: {results.get('total', 0)}.\")\n",
    "    print(f'    Total number of pages: {num_pages}.')\n",
    "\n",
    "    # Create offset for additional results\n",
    "    offset = 0\n",
    "\n",
    "    # Retrieves remaining pages\n",
    "    for num in range(num_pages):\n",
    "        try:\n",
    "            # Process API request\n",
    "            results = yelp_request_offset(term, location, yelp_key, offset=offset, verbose=False)\n",
    "            \n",
    "            # From results, take values from \"businesses\" key and save\n",
    "            parsed_results = parse_data(results.get('businesses', []))\n",
    "          \n",
    "            # Save resulting DF to .csv from top\n",
    "            with open(file_name, 'a') as file:\n",
    "                parsed_results.to_csv(file, mode='a', index=False, header=(num == 0))\n",
    "            \n",
    "            # Increase offset to move to next \"page\" of data\n",
    "            offset += 50\n",
    "            \n",
    "        except (KeyError, IndexError) as e:\n",
    "            # If error, print where the error happens\n",
    "            print(f'Error on page {num}: {e}')\n",
    "            # Then break the loop to avoid infinite retries\n",
    "            break\n",
    "\n",
    "    return parsed_results"
   ]
  },
  {
   "cell_type": "code",
   "execution_count": 57,
   "metadata": {
    "ExecuteTime": {
     "end_time": "2021-05-13T18:49:28.285042Z",
     "start_time": "2021-05-13T18:49:23.347038Z"
    },
    "execution": {
     "iopub.execute_input": "2024-03-13T02:48:29.052217Z",
     "iopub.status.busy": "2024-03-13T02:48:29.052217Z",
     "iopub.status.idle": "2024-03-13T02:48:32.624957Z",
     "shell.execute_reply": "2024-03-13T02:48:32.623970Z",
     "shell.execute_reply.started": "2024-03-13T02:48:29.052217Z"
    },
    "scrolled": true
   },
   "outputs": [
    {
     "name": "stdout",
     "output_type": "stream",
     "text": [
      "File './data/Hotel_Reviews_Lisbon.csv' already exists.\n",
      "For hotel and Lisbon: \n",
      "    Total number of results: 269.\n",
      "    Total number of pages: 6.\n"
     ]
    },
    {
     "data": {
      "text/html": [
       "<div>\n",
       "<style scoped>\n",
       "    .dataframe tbody tr th:only-of-type {\n",
       "        vertical-align: middle;\n",
       "    }\n",
       "\n",
       "    .dataframe tbody tr th {\n",
       "        vertical-align: top;\n",
       "    }\n",
       "\n",
       "    .dataframe thead th {\n",
       "        text-align: right;\n",
       "    }\n",
       "</style>\n",
       "<table border=\"1\" class=\"dataframe\">\n",
       "  <thead>\n",
       "    <tr style=\"text-align: right;\">\n",
       "      <th></th>\n",
       "      <th>name</th>\n",
       "      <th>location</th>\n",
       "      <th>Business ID</th>\n",
       "      <th>alias</th>\n",
       "      <th>title</th>\n",
       "      <th>rating</th>\n",
       "      <th>review_count</th>\n",
       "      <th>price</th>\n",
       "      <th>latitude</th>\n",
       "      <th>longitude</th>\n",
       "    </tr>\n",
       "  </thead>\n",
       "  <tbody>\n",
       "    <tr>\n",
       "      <th>0</th>\n",
       "      <td>Czar Lisbon Hotel</td>\n",
       "      <td>Av. Almirante Reis, 103 1150-020 Lisbon Portugal</td>\n",
       "      <td>RZHSMuDwO1cQiN9YdOgxUA</td>\n",
       "      <td>hotels</td>\n",
       "      <td>Hotels</td>\n",
       "      <td>4.5</td>\n",
       "      <td>2</td>\n",
       "      <td>NaN</td>\n",
       "      <td>38.729335</td>\n",
       "      <td>-9.134757</td>\n",
       "    </tr>\n",
       "    <tr>\n",
       "      <th>1</th>\n",
       "      <td>Largo da Sé Guest House</td>\n",
       "      <td>Calçada do Correio Velho, nº3 Lisbon Portugal</td>\n",
       "      <td>bakV-SwtQW3svi8YtRxsRw</td>\n",
       "      <td>hotels</td>\n",
       "      <td>Hotels</td>\n",
       "      <td>5.0</td>\n",
       "      <td>1</td>\n",
       "      <td>NaN</td>\n",
       "      <td>38.710529</td>\n",
       "      <td>-9.134170</td>\n",
       "    </tr>\n",
       "    <tr>\n",
       "      <th>2</th>\n",
       "      <td>Pensão Rossio</td>\n",
       "      <td>R. dos Sapateiros, 173 2.° Esq. 1100-577 Lisbo...</td>\n",
       "      <td>CPU8jOLO5qVX1zrep6OCOw</td>\n",
       "      <td>hotels</td>\n",
       "      <td>Hotels</td>\n",
       "      <td>5.0</td>\n",
       "      <td>1</td>\n",
       "      <td>NaN</td>\n",
       "      <td>38.711969</td>\n",
       "      <td>-9.138702</td>\n",
       "    </tr>\n",
       "    <tr>\n",
       "      <th>3</th>\n",
       "      <td>Happy @ Santos</td>\n",
       "      <td>Calçada marques de Abrantes 97 1200-719 Lisbon...</td>\n",
       "      <td>EWIVrs6yBFZO0V6tK-F4Jw</td>\n",
       "      <td>hotels</td>\n",
       "      <td>Hotels</td>\n",
       "      <td>3.0</td>\n",
       "      <td>1</td>\n",
       "      <td>NaN</td>\n",
       "      <td>38.707792</td>\n",
       "      <td>-9.154771</td>\n",
       "    </tr>\n",
       "    <tr>\n",
       "      <th>4</th>\n",
       "      <td>Shiado Hostel</td>\n",
       "      <td>R. Anchieta, 5 1200-023 Lisbon Portugal</td>\n",
       "      <td>XXhSVTPVdKXwJPcEG0LEsw</td>\n",
       "      <td>hotels</td>\n",
       "      <td>Hotels</td>\n",
       "      <td>4.0</td>\n",
       "      <td>4</td>\n",
       "      <td>€€</td>\n",
       "      <td>38.709833</td>\n",
       "      <td>-9.141074</td>\n",
       "    </tr>\n",
       "  </tbody>\n",
       "</table>\n",
       "</div>"
      ],
      "text/plain": [
       "                      name                                           location  \\\n",
       "0        Czar Lisbon Hotel   Av. Almirante Reis, 103 1150-020 Lisbon Portugal   \n",
       "1  Largo da Sé Guest House      Calçada do Correio Velho, nº3 Lisbon Portugal   \n",
       "2            Pensão Rossio  R. dos Sapateiros, 173 2.° Esq. 1100-577 Lisbo...   \n",
       "3           Happy @ Santos  Calçada marques de Abrantes 97 1200-719 Lisbon...   \n",
       "4            Shiado Hostel            R. Anchieta, 5 1200-023 Lisbon Portugal   \n",
       "\n",
       "              Business ID   alias   title  rating  review_count price  \\\n",
       "0  RZHSMuDwO1cQiN9YdOgxUA  hotels  Hotels     4.5             2   NaN   \n",
       "1  bakV-SwtQW3svi8YtRxsRw  hotels  Hotels     5.0             1   NaN   \n",
       "2  CPU8jOLO5qVX1zrep6OCOw  hotels  Hotels     5.0             1   NaN   \n",
       "3  EWIVrs6yBFZO0V6tK-F4Jw  hotels  Hotels     3.0             1   NaN   \n",
       "4  XXhSVTPVdKXwJPcEG0LEsw  hotels  Hotels     4.0             4    €€   \n",
       "\n",
       "    latitude  longitude  \n",
       "0  38.729335  -9.134757  \n",
       "1  38.710529  -9.134170  \n",
       "2  38.711969  -9.138702  \n",
       "3  38.707792  -9.154771  \n",
       "4  38.709833  -9.141074  "
      ]
     },
     "execution_count": 57,
     "metadata": {},
     "output_type": "execute_result"
    }
   ],
   "source": [
    "results = get_full_data('hotel', 'Lisbon', yelp_key, file_name = './data/Hotel_Reviews_Lisbon.csv')\n",
    "results.head()"
   ]
  },
  {
   "cell_type": "markdown",
   "metadata": {},
   "source": [
    "# Cleaning Data"
   ]
  },
  {
   "cell_type": "markdown",
   "metadata": {},
   "source": [
    "# ƒ: clean_data"
   ]
  },
  {
   "cell_type": "markdown",
   "metadata": {},
   "source": [
    "Identifying, Filtering for, and Saving Top 2 Aliases"
   ]
  },
  {
   "cell_type": "code",
   "execution_count": 19,
   "metadata": {
    "ExecuteTime": {
     "end_time": "2021-05-13T18:49:28.300042Z",
     "start_time": "2021-05-13T18:49:28.288044Z"
    },
    "code_folding": [
     0
    ]
   },
   "outputs": [],
   "source": [
    "# def sort_by_aliases(raw_data = 'data/wineries_raw.csv'):\n",
    "\n",
    "#     # Read in businesses\n",
    "#     df1 = pd.read_csv(raw_data, header = 0)\n",
    "\n",
    "#     # Create new DF filtering alias and title columns\n",
    "#     df1_alias = df1.loc[:,['alias', 'title']]\n",
    "\n",
    "#     # Identify top 2 aliases \n",
    "#     df1_alias_count = df1_alias.groupby('alias').count().sort_values(['title'],\\\n",
    "#                                                             ascending=False)[:2]\n",
    "\n",
    "#     # Note: initially tried top 3, but it returned distributors, not wineries\n",
    "\n",
    "#     df1_alias_count.reset_index(inplace=True)\n",
    "    \n",
    "#     print(\"Top two aliases: \")\n",
    "#     print(df1_alias_count)\n",
    "\n",
    "#     # display them as a list\n",
    "#     aliases_top_2 = df1_alias_count['alias'].tolist()\n",
    "\n",
    "#     # Selecting rows based on condition and saving\n",
    "\n",
    "#     df2 = df1[df1['alias'].isin(aliases_top_2)]\n",
    "\n",
    "#     df2.to_csv('data/wineries_filtered_alias.csv', index = False)\n",
    "#     print(\"Saved to 'data/wineries_filtered_alias.csv'\")\n",
    "    \n",
    "#     return df2"
   ]
  },
  {
   "cell_type": "code",
   "execution_count": 15,
   "metadata": {
    "ExecuteTime": {
     "end_time": "2021-05-13T18:49:28.315044Z",
     "start_time": "2021-05-13T18:49:28.303041Z"
    },
    "execution": {
     "iopub.execute_input": "2024-03-13T02:21:23.034350Z",
     "iopub.status.busy": "2024-03-13T02:21:23.034350Z",
     "iopub.status.idle": "2024-03-13T02:21:23.055472Z",
     "shell.execute_reply": "2024-03-13T02:21:23.054484Z",
     "shell.execute_reply.started": "2024-03-13T02:21:23.034350Z"
    }
   },
   "outputs": [],
   "source": [
    "def clean_data(existing_dataframe, raw_data_path, cleaned_data_path):\n",
    "    '''- Requires data from either an existing dataframe or an existing .csv file\n",
    "    - Takes raw business data from the Yelp API and filters for the top two\n",
    "    aliases (focusing on \"wineries\" and \"winetastingrooms\").\n",
    "    '''\n",
    "\n",
    "    # Read in businesses\n",
    "    df1 = pd.read_csv(raw_data_path, header = 1)\n",
    "\n",
    "    alias_index = df1['alias'].value_counts()[:2].index\n",
    "    print(alias_index)\n",
    "    \n",
    "    # Filtering rows based on condition\n",
    "\n",
    "    df2 = df1[df1['alias'].isin(alias_index)]\n",
    "    \n",
    "    # Resetting index\n",
    "    df2.reset_index(drop=True, inplace=True)\n",
    "    \n",
    "    # Save results\n",
    "    df2.to_csv(cleaned_data_path,index = False)\n",
    "       \n",
    "    print(f\"Saved to {cleaned_data_path}\")\n",
    "    \n",
    "    return df2"
   ]
  },
  {
   "cell_type": "code",
   "execution_count": 16,
   "metadata": {
    "ExecuteTime": {
     "end_time": "2021-05-13T18:49:28.379040Z",
     "start_time": "2021-05-13T18:49:28.318043Z"
    },
    "execution": {
     "iopub.execute_input": "2024-03-13T02:21:23.336976Z",
     "iopub.status.busy": "2024-03-13T02:21:23.336976Z",
     "iopub.status.idle": "2024-03-13T02:21:23.381616Z",
     "shell.execute_reply": "2024-03-13T02:21:23.380533Z",
     "shell.execute_reply.started": "2024-03-13T02:21:23.336976Z"
    }
   },
   "outputs": [
    {
     "name": "stdout",
     "output_type": "stream",
     "text": [
      "Index(['hotels', 'guesthouses'], dtype='object', name='alias')\n",
      "Saved to ./data/Hotel_Reviews_Lisbon_Cleaned.csv\n"
     ]
    },
    {
     "data": {
      "text/html": [
       "<div>\n",
       "<style scoped>\n",
       "    .dataframe tbody tr th:only-of-type {\n",
       "        vertical-align: middle;\n",
       "    }\n",
       "\n",
       "    .dataframe tbody tr th {\n",
       "        vertical-align: top;\n",
       "    }\n",
       "\n",
       "    .dataframe thead th {\n",
       "        text-align: right;\n",
       "    }\n",
       "</style>\n",
       "<table border=\"1\" class=\"dataframe\">\n",
       "  <thead>\n",
       "    <tr style=\"text-align: right;\">\n",
       "      <th></th>\n",
       "      <th>name</th>\n",
       "      <th>location</th>\n",
       "      <th>Business ID</th>\n",
       "      <th>alias</th>\n",
       "      <th>title</th>\n",
       "      <th>rating</th>\n",
       "      <th>review_count</th>\n",
       "      <th>price</th>\n",
       "      <th>latitude</th>\n",
       "      <th>longitude</th>\n",
       "    </tr>\n",
       "  </thead>\n",
       "  <tbody>\n",
       "    <tr>\n",
       "      <th>0</th>\n",
       "      <td>Hotel Avenida Palace</td>\n",
       "      <td>R. 1º de Dezembro, 123 1200-359 Lisbon Portugal</td>\n",
       "      <td>q-Px_TUI_zLr93xn-1-Ypw</td>\n",
       "      <td>hotels</td>\n",
       "      <td>Hotels</td>\n",
       "      <td>4.6</td>\n",
       "      <td>23</td>\n",
       "      <td>€€€</td>\n",
       "      <td>38.714837</td>\n",
       "      <td>-9.141188</td>\n",
       "    </tr>\n",
       "    <tr>\n",
       "      <th>1</th>\n",
       "      <td>Brown's Central</td>\n",
       "      <td>R. da Assunção, 75 1100-042 Lisbon Portugal</td>\n",
       "      <td>yvbBx06xhwEyvXITlGji5g</td>\n",
       "      <td>hotels</td>\n",
       "      <td>Hotels</td>\n",
       "      <td>4.6</td>\n",
       "      <td>16</td>\n",
       "      <td>€€</td>\n",
       "      <td>38.7115402</td>\n",
       "      <td>-9.1383696</td>\n",
       "    </tr>\n",
       "    <tr>\n",
       "      <th>2</th>\n",
       "      <td>Evolution E.Hotel</td>\n",
       "      <td>Praça Duque de Saldanha, 4 1050-094 Lisbon Por...</td>\n",
       "      <td>fmoWlWBqkVeyFpTtcE09RQ</td>\n",
       "      <td>hotels</td>\n",
       "      <td>Hotels</td>\n",
       "      <td>4.6</td>\n",
       "      <td>13</td>\n",
       "      <td>€€</td>\n",
       "      <td>38.733519900691</td>\n",
       "      <td>-9.14409564100038</td>\n",
       "    </tr>\n",
       "    <tr>\n",
       "      <th>3</th>\n",
       "      <td>Sheraton Lisboa Hotel &amp; Spa</td>\n",
       "      <td>Rua Latino Coelho, 1 1069-025 Lisbon Portugal</td>\n",
       "      <td>9wTTno6WG7cHlXDDZ00EQw</td>\n",
       "      <td>hotels</td>\n",
       "      <td>Hotels</td>\n",
       "      <td>4.2</td>\n",
       "      <td>53</td>\n",
       "      <td>€€€</td>\n",
       "      <td>38.7318001</td>\n",
       "      <td>-9.1470003</td>\n",
       "    </tr>\n",
       "    <tr>\n",
       "      <th>4</th>\n",
       "      <td>Ritz Four Seasons Hotel</td>\n",
       "      <td>R. Rodrigo da Fonseca, 88 1099-039 Lisbon Port...</td>\n",
       "      <td>DPkYK5RwCkAULtLJp7pOmA</td>\n",
       "      <td>hotels</td>\n",
       "      <td>Hotels</td>\n",
       "      <td>4.6</td>\n",
       "      <td>24</td>\n",
       "      <td>€€€€</td>\n",
       "      <td>38.7255172</td>\n",
       "      <td>-9.1552052</td>\n",
       "    </tr>\n",
       "    <tr>\n",
       "      <th>...</th>\n",
       "      <td>...</td>\n",
       "      <td>...</td>\n",
       "      <td>...</td>\n",
       "      <td>...</td>\n",
       "      <td>...</td>\n",
       "      <td>...</td>\n",
       "      <td>...</td>\n",
       "      <td>...</td>\n",
       "      <td>...</td>\n",
       "      <td>...</td>\n",
       "    </tr>\n",
       "    <tr>\n",
       "      <th>229</th>\n",
       "      <td>Hotel As Lisboa</td>\n",
       "      <td>Av. Almirante Reis, 188 1000-055 Lisbon Portugal</td>\n",
       "      <td>XieXK380bk1DgOMzVJrhbQ</td>\n",
       "      <td>hotels</td>\n",
       "      <td>Hotels</td>\n",
       "      <td>2.0</td>\n",
       "      <td>1</td>\n",
       "      <td>€€</td>\n",
       "      <td>38.737595634743</td>\n",
       "      <td>-9.13362236004946</td>\n",
       "    </tr>\n",
       "    <tr>\n",
       "      <th>230</th>\n",
       "      <td>Palácio do Governador</td>\n",
       "      <td>R. Bartolomeu Dias, 117 1400-030 Lisbon Portugal</td>\n",
       "      <td>_ZBCoK0xNKw3NkQ21XArqg</td>\n",
       "      <td>hotels</td>\n",
       "      <td>Hotels</td>\n",
       "      <td>5.0</td>\n",
       "      <td>1</td>\n",
       "      <td>€€€€</td>\n",
       "      <td>38.6950405</td>\n",
       "      <td>-9.2144062</td>\n",
       "    </tr>\n",
       "    <tr>\n",
       "      <th>231</th>\n",
       "      <td>Turim Alameda</td>\n",
       "      <td>Av. Rovisco Pais 34 1000-268 Lisbon Portugal</td>\n",
       "      <td>e65ge0YP1I8FRzRSPvA4xQ</td>\n",
       "      <td>hotels</td>\n",
       "      <td>Hotels</td>\n",
       "      <td>4.0</td>\n",
       "      <td>1</td>\n",
       "      <td>NaN</td>\n",
       "      <td>38.7354399</td>\n",
       "      <td>-9.13763</td>\n",
       "    </tr>\n",
       "    <tr>\n",
       "      <th>232</th>\n",
       "      <td>Aquapura Douro Valley</td>\n",
       "      <td>Quinta Da Vale De Abraoo Lisbon Portugal</td>\n",
       "      <td>BExuGekqd19zjQccm4u-Cw</td>\n",
       "      <td>hotels</td>\n",
       "      <td>Hotels</td>\n",
       "      <td>4.0</td>\n",
       "      <td>1</td>\n",
       "      <td>NaN</td>\n",
       "      <td>38.7111511</td>\n",
       "      <td>-9.1503601</td>\n",
       "    </tr>\n",
       "    <tr>\n",
       "      <th>233</th>\n",
       "      <td>Hotel Dom Carlos Park</td>\n",
       "      <td>Av. Duque de Loulé, 121 1050-089 Lisbon Portugal</td>\n",
       "      <td>uWdu6aSN036ckD6qlCnKMw</td>\n",
       "      <td>hotels</td>\n",
       "      <td>Hotels</td>\n",
       "      <td>3.0</td>\n",
       "      <td>1</td>\n",
       "      <td>€€</td>\n",
       "      <td>38.7256889</td>\n",
       "      <td>-9.1480598</td>\n",
       "    </tr>\n",
       "  </tbody>\n",
       "</table>\n",
       "<p>234 rows × 10 columns</p>\n",
       "</div>"
      ],
      "text/plain": [
       "                            name  \\\n",
       "0           Hotel Avenida Palace   \n",
       "1                Brown's Central   \n",
       "2              Evolution E.Hotel   \n",
       "3    Sheraton Lisboa Hotel & Spa   \n",
       "4        Ritz Four Seasons Hotel   \n",
       "..                           ...   \n",
       "229              Hotel As Lisboa   \n",
       "230        Palácio do Governador   \n",
       "231                Turim Alameda   \n",
       "232        Aquapura Douro Valley   \n",
       "233        Hotel Dom Carlos Park   \n",
       "\n",
       "                                              location  \\\n",
       "0      R. 1º de Dezembro, 123 1200-359 Lisbon Portugal   \n",
       "1          R. da Assunção, 75 1100-042 Lisbon Portugal   \n",
       "2    Praça Duque de Saldanha, 4 1050-094 Lisbon Por...   \n",
       "3        Rua Latino Coelho, 1 1069-025 Lisbon Portugal   \n",
       "4    R. Rodrigo da Fonseca, 88 1099-039 Lisbon Port...   \n",
       "..                                                 ...   \n",
       "229   Av. Almirante Reis, 188 1000-055 Lisbon Portugal   \n",
       "230   R. Bartolomeu Dias, 117 1400-030 Lisbon Portugal   \n",
       "231       Av. Rovisco Pais 34 1000-268 Lisbon Portugal   \n",
       "232           Quinta Da Vale De Abraoo Lisbon Portugal   \n",
       "233   Av. Duque de Loulé, 121 1050-089 Lisbon Portugal   \n",
       "\n",
       "                Business ID   alias   title rating review_count price  \\\n",
       "0    q-Px_TUI_zLr93xn-1-Ypw  hotels  Hotels    4.6           23   €€€   \n",
       "1    yvbBx06xhwEyvXITlGji5g  hotels  Hotels    4.6           16    €€   \n",
       "2    fmoWlWBqkVeyFpTtcE09RQ  hotels  Hotels    4.6           13    €€   \n",
       "3    9wTTno6WG7cHlXDDZ00EQw  hotels  Hotels    4.2           53   €€€   \n",
       "4    DPkYK5RwCkAULtLJp7pOmA  hotels  Hotels    4.6           24  €€€€   \n",
       "..                      ...     ...     ...    ...          ...   ...   \n",
       "229  XieXK380bk1DgOMzVJrhbQ  hotels  Hotels    2.0            1    €€   \n",
       "230  _ZBCoK0xNKw3NkQ21XArqg  hotels  Hotels    5.0            1  €€€€   \n",
       "231  e65ge0YP1I8FRzRSPvA4xQ  hotels  Hotels    4.0            1   NaN   \n",
       "232  BExuGekqd19zjQccm4u-Cw  hotels  Hotels    4.0            1   NaN   \n",
       "233  uWdu6aSN036ckD6qlCnKMw  hotels  Hotels    3.0            1    €€   \n",
       "\n",
       "            latitude          longitude  \n",
       "0          38.714837          -9.141188  \n",
       "1         38.7115402         -9.1383696  \n",
       "2    38.733519900691  -9.14409564100038  \n",
       "3         38.7318001         -9.1470003  \n",
       "4         38.7255172         -9.1552052  \n",
       "..               ...                ...  \n",
       "229  38.737595634743  -9.13362236004946  \n",
       "230       38.6950405         -9.2144062  \n",
       "231       38.7354399           -9.13763  \n",
       "232       38.7111511         -9.1503601  \n",
       "233       38.7256889         -9.1480598  \n",
       "\n",
       "[234 rows x 10 columns]"
      ]
     },
     "execution_count": 16,
     "metadata": {},
     "output_type": "execute_result"
    }
   ],
   "source": [
    "raw_data_path='./data/Hotel_Reviews_Lisbon.csv'\n",
    "cleaned_data_path='./data/Hotel_Reviews_Lisbon_Cleaned.csv'\n",
    "\n",
    "df_filtered = clean_data(existing_dataframe = None,\n",
    "                         raw_data_path = raw_data_path,\n",
    "                         cleaned_data_path = cleaned_data_path)\n",
    "df_filtered"
   ]
  },
  {
   "cell_type": "markdown",
   "metadata": {},
   "source": [
    "# Getting Classy - Creating Class to Handle Full Process"
   ]
  },
  {
   "cell_type": "markdown",
   "metadata": {},
   "source": [
    "---\n",
    "\n",
    "Code initially generated by ChatGPT and adapted further.\n",
    "\n",
    "---"
   ]
  },
  {
   "cell_type": "code",
   "execution_count": 58,
   "metadata": {
    "execution": {
     "iopub.execute_input": "2024-03-13T03:30:41.183101Z",
     "iopub.status.busy": "2024-03-13T03:30:41.182114Z",
     "iopub.status.idle": "2024-03-13T03:30:41.208436Z",
     "shell.execute_reply": "2024-03-13T03:30:41.207444Z",
     "shell.execute_reply.started": "2024-03-13T03:30:41.183101Z"
    }
   },
   "outputs": [],
   "source": [
    "class YelpReviewManager:\n",
    "    def __init__(self, yelp_key):\n",
    "        \"\"\"Initialize with Yelp API key.\"\"\"\n",
    "        self._yelp_key = yelp_key\n",
    "        self._base_url = 'https://api.yelp.com/v3/businesses/search'\n",
    "        self.raw_data = None\n",
    "        self.transformed_data = None\n",
    "\n",
    "    def _make_api_request(self, term, location, offset=0):\n",
    "        \"\"\"Make a private Yelp API request.\"\"\"\n",
    "        headers = {'Authorization': f'Bearer {self._yelp_key}'}\n",
    "        params = {'term': term, 'location': location, 'limit': 50, 'offset': offset}\n",
    "        response = requests.get(self._base_url, headers=headers, params=params)\n",
    "        return response.json()\n",
    "\n",
    "    def fetch_and_save_raw_data(self, term, location, file_name, verbose=False):\n",
    "        \"\"\"Fetch raw data based on term and location, and save it.\"\"\"\n",
    "        businesses = []\n",
    "        offset = 0\n",
    "        while True:\n",
    "            response = self._make_api_request(term, location, offset)\n",
    "            batch = response.get('businesses', [])\n",
    "            if not batch or 'total' in response and len(businesses) >= response['total']:\n",
    "                break\n",
    "            businesses.extend(batch)\n",
    "            offset += 50\n",
    "            if verbose:\n",
    "                print(f\"Fetched {len(batch)} businesses, total: {len(businesses)}\")\n",
    "        self.raw_data = pd.DataFrame(businesses)\n",
    "        self.raw_data.to_csv(file_name, index=False)\n",
    "        print(f\"Raw data saved to {file_name}.\")\n",
    "\n",
    "    def transform_data(self, top_n=2):\n",
    "        \"\"\"Transform the raw data by filtering based on top n aliases.\"\"\"\n",
    "        if self.raw_data is None:\n",
    "            raise ValueError(\"Raw data is not fetched yet.\")\n",
    "        value_counts = self.raw_data['categories'].apply(lambda x: x[0]['alias'] if x else None).value_counts()\n",
    "        top_aliases = value_counts.nlargest(top_n).index.tolist()\n",
    "        self.transformed_data = self.raw_data[self.raw_data['categories'].apply(lambda x: x[0]['alias'] if x else None).isin(top_aliases)]\n",
    "\n",
    "    def save_transformed_data(self, file_name):\n",
    "        \"\"\"Save the transformed data to a CSV file.\"\"\"\n",
    "        if self.transformed_data is None:\n",
    "            raise ValueError(\"Data has not been transformed yet.\")\n",
    "        self.transformed_data.to_csv(file_name, index=False)\n",
    "        print(f\"Transformed data saved to {file_name}.\")"
   ]
  },
  {
   "cell_type": "code",
   "execution_count": 59,
   "metadata": {
    "execution": {
     "iopub.execute_input": "2024-03-13T03:31:30.035879Z",
     "iopub.status.busy": "2024-03-13T03:31:30.035879Z",
     "iopub.status.idle": "2024-03-13T03:31:33.767325Z",
     "shell.execute_reply": "2024-03-13T03:31:33.766727Z",
     "shell.execute_reply.started": "2024-03-13T03:31:30.035879Z"
    }
   },
   "outputs": [
    {
     "name": "stdout",
     "output_type": "stream",
     "text": [
      "Fetched 50 businesses, total: 50\n",
      "Fetched 50 businesses, total: 100\n",
      "Fetched 50 businesses, total: 150\n",
      "Fetched 50 businesses, total: 200\n",
      "Fetched 50 businesses, total: 250\n",
      "Fetched 18 businesses, total: 268\n",
      "Raw data saved to lisbon_hotels_raw.csv.\n",
      "Transformed data saved to lisbon_hotels_transformed.csv.\n"
     ]
    }
   ],
   "source": [
    "# Initialize the YelpReviewManager with your Yelp API key\n",
    "yelp_review_manager = YelpReviewManager(yelp_key=yelp_key)\n",
    "\n",
    "# Fetch and save raw data for hotels in Lisbon, Portugal\n",
    "yelp_review_manager.fetch_and_save_raw_data(term='hotels', location='Lisbon, Portugal', file_name='lisbon_hotels_raw.csv', verbose=True)\n",
    "\n",
    "# Perform transformation on the fetched data\n",
    "yelp_review_manager.transform_data(top_n=2)\n",
    "\n",
    "# Save the transformed data\n",
    "yelp_review_manager.save_transformed_data(file_name='lisbon_hotels_transformed.csv')"
   ]
  },
  {
   "cell_type": "markdown",
   "metadata": {
    "ExecuteTime": {
     "end_time": "2021-05-13T17:51:05.843625Z",
     "start_time": "2021-05-13T17:51:05.832627Z"
    }
   },
   "source": [
    "# ƒ: convert_price"
   ]
  },
  {
   "cell_type": "code",
   "execution_count": 21,
   "metadata": {
    "ExecuteTime": {
     "end_time": "2021-05-13T18:49:28.394040Z",
     "start_time": "2021-05-13T18:49:28.382043Z"
    },
    "execution": {
     "iopub.execute_input": "2024-03-13T02:22:43.175198Z",
     "iopub.status.busy": "2024-03-13T02:22:43.175198Z",
     "iopub.status.idle": "2024-03-13T02:22:43.194569Z",
     "shell.execute_reply": "2024-03-13T02:22:43.193565Z",
     "shell.execute_reply.started": "2024-03-13T02:22:43.175198Z"
    }
   },
   "outputs": [],
   "source": [
    "def convert_price(dataframe, filepath):\n",
    "    ''' - Requires a dataframe with the 'price' column elements being NaN, $, $$, or $$$.\n",
    "    - Takes a pre-existing dataframe and adds a column to store the conversion from $ to an integer.'''\n",
    "    \n",
    "    # Converting $s to integers, then saving to new column.\n",
    "    dataframe['price_converted'] = dataframe.loc[:,'price'].map({np.nan:0, '$':1, '$$':2, '$$$':3})\n",
    "    \n",
    "    \n",
    "    # Saves results to new file\n",
    "    dataframe.to_csv(filepath,index = False)\n",
    "    \n",
    "    return dataframe"
   ]
  },
  {
   "cell_type": "code",
   "execution_count": 22,
   "metadata": {
    "ExecuteTime": {
     "end_time": "2021-05-13T18:50:53.757364Z",
     "start_time": "2021-05-13T18:50:53.710366Z"
    },
    "execution": {
     "iopub.execute_input": "2024-03-13T02:22:44.258504Z",
     "iopub.status.busy": "2024-03-13T02:22:44.258504Z",
     "iopub.status.idle": "2024-03-13T02:22:48.596952Z",
     "shell.execute_reply": "2024-03-13T02:22:48.595917Z",
     "shell.execute_reply.started": "2024-03-13T02:22:44.258504Z"
    },
    "scrolled": true
   },
   "outputs": [
    {
     "data": {
      "text/html": [
       "<div>\n",
       "<style scoped>\n",
       "    .dataframe tbody tr th:only-of-type {\n",
       "        vertical-align: middle;\n",
       "    }\n",
       "\n",
       "    .dataframe tbody tr th {\n",
       "        vertical-align: top;\n",
       "    }\n",
       "\n",
       "    .dataframe thead th {\n",
       "        text-align: right;\n",
       "    }\n",
       "</style>\n",
       "<table border=\"1\" class=\"dataframe\">\n",
       "  <thead>\n",
       "    <tr style=\"text-align: right;\">\n",
       "      <th></th>\n",
       "      <th>name</th>\n",
       "      <th>location</th>\n",
       "      <th>Business ID</th>\n",
       "      <th>alias</th>\n",
       "      <th>title</th>\n",
       "      <th>rating</th>\n",
       "      <th>review_count</th>\n",
       "      <th>price</th>\n",
       "      <th>latitude</th>\n",
       "      <th>longitude</th>\n",
       "      <th>price_converted</th>\n",
       "    </tr>\n",
       "  </thead>\n",
       "  <tbody>\n",
       "    <tr>\n",
       "      <th>0</th>\n",
       "      <td>Hotel Avenida Palace</td>\n",
       "      <td>R. 1º de Dezembro, 123 1200-359 Lisbon Portugal</td>\n",
       "      <td>q-Px_TUI_zLr93xn-1-Ypw</td>\n",
       "      <td>hotels</td>\n",
       "      <td>Hotels</td>\n",
       "      <td>4.6</td>\n",
       "      <td>23</td>\n",
       "      <td>€€€</td>\n",
       "      <td>38.714837</td>\n",
       "      <td>-9.141188</td>\n",
       "      <td>NaN</td>\n",
       "    </tr>\n",
       "    <tr>\n",
       "      <th>1</th>\n",
       "      <td>Brown's Central</td>\n",
       "      <td>R. da Assunção, 75 1100-042 Lisbon Portugal</td>\n",
       "      <td>yvbBx06xhwEyvXITlGji5g</td>\n",
       "      <td>hotels</td>\n",
       "      <td>Hotels</td>\n",
       "      <td>4.6</td>\n",
       "      <td>16</td>\n",
       "      <td>€€</td>\n",
       "      <td>38.7115402</td>\n",
       "      <td>-9.1383696</td>\n",
       "      <td>NaN</td>\n",
       "    </tr>\n",
       "    <tr>\n",
       "      <th>2</th>\n",
       "      <td>Evolution E.Hotel</td>\n",
       "      <td>Praça Duque de Saldanha, 4 1050-094 Lisbon Por...</td>\n",
       "      <td>fmoWlWBqkVeyFpTtcE09RQ</td>\n",
       "      <td>hotels</td>\n",
       "      <td>Hotels</td>\n",
       "      <td>4.6</td>\n",
       "      <td>13</td>\n",
       "      <td>€€</td>\n",
       "      <td>38.733519900691</td>\n",
       "      <td>-9.14409564100038</td>\n",
       "      <td>NaN</td>\n",
       "    </tr>\n",
       "    <tr>\n",
       "      <th>3</th>\n",
       "      <td>Sheraton Lisboa Hotel &amp; Spa</td>\n",
       "      <td>Rua Latino Coelho, 1 1069-025 Lisbon Portugal</td>\n",
       "      <td>9wTTno6WG7cHlXDDZ00EQw</td>\n",
       "      <td>hotels</td>\n",
       "      <td>Hotels</td>\n",
       "      <td>4.2</td>\n",
       "      <td>53</td>\n",
       "      <td>€€€</td>\n",
       "      <td>38.7318001</td>\n",
       "      <td>-9.1470003</td>\n",
       "      <td>NaN</td>\n",
       "    </tr>\n",
       "    <tr>\n",
       "      <th>4</th>\n",
       "      <td>Ritz Four Seasons Hotel</td>\n",
       "      <td>R. Rodrigo da Fonseca, 88 1099-039 Lisbon Port...</td>\n",
       "      <td>DPkYK5RwCkAULtLJp7pOmA</td>\n",
       "      <td>hotels</td>\n",
       "      <td>Hotels</td>\n",
       "      <td>4.6</td>\n",
       "      <td>24</td>\n",
       "      <td>€€€€</td>\n",
       "      <td>38.7255172</td>\n",
       "      <td>-9.1552052</td>\n",
       "      <td>NaN</td>\n",
       "    </tr>\n",
       "    <tr>\n",
       "      <th>...</th>\n",
       "      <td>...</td>\n",
       "      <td>...</td>\n",
       "      <td>...</td>\n",
       "      <td>...</td>\n",
       "      <td>...</td>\n",
       "      <td>...</td>\n",
       "      <td>...</td>\n",
       "      <td>...</td>\n",
       "      <td>...</td>\n",
       "      <td>...</td>\n",
       "      <td>...</td>\n",
       "    </tr>\n",
       "    <tr>\n",
       "      <th>229</th>\n",
       "      <td>Hotel As Lisboa</td>\n",
       "      <td>Av. Almirante Reis, 188 1000-055 Lisbon Portugal</td>\n",
       "      <td>XieXK380bk1DgOMzVJrhbQ</td>\n",
       "      <td>hotels</td>\n",
       "      <td>Hotels</td>\n",
       "      <td>2.0</td>\n",
       "      <td>1</td>\n",
       "      <td>€€</td>\n",
       "      <td>38.737595634743</td>\n",
       "      <td>-9.13362236004946</td>\n",
       "      <td>NaN</td>\n",
       "    </tr>\n",
       "    <tr>\n",
       "      <th>230</th>\n",
       "      <td>Palácio do Governador</td>\n",
       "      <td>R. Bartolomeu Dias, 117 1400-030 Lisbon Portugal</td>\n",
       "      <td>_ZBCoK0xNKw3NkQ21XArqg</td>\n",
       "      <td>hotels</td>\n",
       "      <td>Hotels</td>\n",
       "      <td>5.0</td>\n",
       "      <td>1</td>\n",
       "      <td>€€€€</td>\n",
       "      <td>38.6950405</td>\n",
       "      <td>-9.2144062</td>\n",
       "      <td>NaN</td>\n",
       "    </tr>\n",
       "    <tr>\n",
       "      <th>231</th>\n",
       "      <td>Turim Alameda</td>\n",
       "      <td>Av. Rovisco Pais 34 1000-268 Lisbon Portugal</td>\n",
       "      <td>e65ge0YP1I8FRzRSPvA4xQ</td>\n",
       "      <td>hotels</td>\n",
       "      <td>Hotels</td>\n",
       "      <td>4.0</td>\n",
       "      <td>1</td>\n",
       "      <td>NaN</td>\n",
       "      <td>38.7354399</td>\n",
       "      <td>-9.13763</td>\n",
       "      <td>0.0</td>\n",
       "    </tr>\n",
       "    <tr>\n",
       "      <th>232</th>\n",
       "      <td>Aquapura Douro Valley</td>\n",
       "      <td>Quinta Da Vale De Abraoo Lisbon Portugal</td>\n",
       "      <td>BExuGekqd19zjQccm4u-Cw</td>\n",
       "      <td>hotels</td>\n",
       "      <td>Hotels</td>\n",
       "      <td>4.0</td>\n",
       "      <td>1</td>\n",
       "      <td>NaN</td>\n",
       "      <td>38.7111511</td>\n",
       "      <td>-9.1503601</td>\n",
       "      <td>0.0</td>\n",
       "    </tr>\n",
       "    <tr>\n",
       "      <th>233</th>\n",
       "      <td>Hotel Dom Carlos Park</td>\n",
       "      <td>Av. Duque de Loulé, 121 1050-089 Lisbon Portugal</td>\n",
       "      <td>uWdu6aSN036ckD6qlCnKMw</td>\n",
       "      <td>hotels</td>\n",
       "      <td>Hotels</td>\n",
       "      <td>3.0</td>\n",
       "      <td>1</td>\n",
       "      <td>€€</td>\n",
       "      <td>38.7256889</td>\n",
       "      <td>-9.1480598</td>\n",
       "      <td>NaN</td>\n",
       "    </tr>\n",
       "  </tbody>\n",
       "</table>\n",
       "<p>234 rows × 11 columns</p>\n",
       "</div>"
      ],
      "text/plain": [
       "                            name  \\\n",
       "0           Hotel Avenida Palace   \n",
       "1                Brown's Central   \n",
       "2              Evolution E.Hotel   \n",
       "3    Sheraton Lisboa Hotel & Spa   \n",
       "4        Ritz Four Seasons Hotel   \n",
       "..                           ...   \n",
       "229              Hotel As Lisboa   \n",
       "230        Palácio do Governador   \n",
       "231                Turim Alameda   \n",
       "232        Aquapura Douro Valley   \n",
       "233        Hotel Dom Carlos Park   \n",
       "\n",
       "                                              location  \\\n",
       "0      R. 1º de Dezembro, 123 1200-359 Lisbon Portugal   \n",
       "1          R. da Assunção, 75 1100-042 Lisbon Portugal   \n",
       "2    Praça Duque de Saldanha, 4 1050-094 Lisbon Por...   \n",
       "3        Rua Latino Coelho, 1 1069-025 Lisbon Portugal   \n",
       "4    R. Rodrigo da Fonseca, 88 1099-039 Lisbon Port...   \n",
       "..                                                 ...   \n",
       "229   Av. Almirante Reis, 188 1000-055 Lisbon Portugal   \n",
       "230   R. Bartolomeu Dias, 117 1400-030 Lisbon Portugal   \n",
       "231       Av. Rovisco Pais 34 1000-268 Lisbon Portugal   \n",
       "232           Quinta Da Vale De Abraoo Lisbon Portugal   \n",
       "233   Av. Duque de Loulé, 121 1050-089 Lisbon Portugal   \n",
       "\n",
       "                Business ID   alias   title rating review_count price  \\\n",
       "0    q-Px_TUI_zLr93xn-1-Ypw  hotels  Hotels    4.6           23   €€€   \n",
       "1    yvbBx06xhwEyvXITlGji5g  hotels  Hotels    4.6           16    €€   \n",
       "2    fmoWlWBqkVeyFpTtcE09RQ  hotels  Hotels    4.6           13    €€   \n",
       "3    9wTTno6WG7cHlXDDZ00EQw  hotels  Hotels    4.2           53   €€€   \n",
       "4    DPkYK5RwCkAULtLJp7pOmA  hotels  Hotels    4.6           24  €€€€   \n",
       "..                      ...     ...     ...    ...          ...   ...   \n",
       "229  XieXK380bk1DgOMzVJrhbQ  hotels  Hotels    2.0            1    €€   \n",
       "230  _ZBCoK0xNKw3NkQ21XArqg  hotels  Hotels    5.0            1  €€€€   \n",
       "231  e65ge0YP1I8FRzRSPvA4xQ  hotels  Hotels    4.0            1   NaN   \n",
       "232  BExuGekqd19zjQccm4u-Cw  hotels  Hotels    4.0            1   NaN   \n",
       "233  uWdu6aSN036ckD6qlCnKMw  hotels  Hotels    3.0            1    €€   \n",
       "\n",
       "            latitude          longitude  price_converted  \n",
       "0          38.714837          -9.141188              NaN  \n",
       "1         38.7115402         -9.1383696              NaN  \n",
       "2    38.733519900691  -9.14409564100038              NaN  \n",
       "3         38.7318001         -9.1470003              NaN  \n",
       "4         38.7255172         -9.1552052              NaN  \n",
       "..               ...                ...              ...  \n",
       "229  38.737595634743  -9.13362236004946              NaN  \n",
       "230       38.6950405         -9.2144062              NaN  \n",
       "231       38.7354399           -9.13763              0.0  \n",
       "232       38.7111511         -9.1503601              0.0  \n",
       "233       38.7256889         -9.1480598              NaN  \n",
       "\n",
       "[234 rows x 11 columns]"
      ]
     },
     "execution_count": 22,
     "metadata": {},
     "output_type": "execute_result"
    }
   ],
   "source": [
    "convert_price(dataframe = df_filtered, filepath = './data/Hotel_Reviews_Lisbon_Cleaned.csv')"
   ]
  },
  {
   "cell_type": "markdown",
   "metadata": {},
   "source": [
    "# Part 3 -  Create ETL pipeline for the restaurant review data from the API"
   ]
  },
  {
   "cell_type": "markdown",
   "metadata": {},
   "source": [
    "You've done this for the Businesses, now you need to do this for reviews. You will follow the same process, but your functions will be specific to reviews. Above you have a model of the functions you will need to write, and how to pull them together in one script. For this part, you have the process below "
   ]
  },
  {
   "cell_type": "markdown",
   "metadata": {},
   "source": [
    "## Getting Business IDs"
   ]
  },
  {
   "cell_type": "markdown",
   "metadata": {},
   "source": [
    "- In order to pull the reveiws, you will need the business ids. So your first step will be to get all of the business ids from your businesses csv. "
   ]
  },
  {
   "cell_type": "markdown",
   "metadata": {},
   "source": [
    "### Open file and slice ID"
   ]
  },
  {
   "cell_type": "markdown",
   "metadata": {},
   "source": [
    "1. Open data/wineries.csv\n",
    "2. Slice out the 'name' and 'id' columns for each row"
   ]
  },
  {
   "cell_type": "code",
   "execution_count": 24,
   "metadata": {
    "ExecuteTime": {
     "end_time": "2021-05-13T18:49:28.441042Z",
     "start_time": "2021-05-13T18:49:28.415042Z"
    },
    "execution": {
     "iopub.execute_input": "2024-03-13T02:24:45.527747Z",
     "iopub.status.busy": "2024-03-13T02:24:45.527747Z",
     "iopub.status.idle": "2024-03-13T02:24:45.546418Z",
     "shell.execute_reply": "2024-03-13T02:24:45.545971Z",
     "shell.execute_reply.started": "2024-03-13T02:24:45.527747Z"
    }
   },
   "outputs": [
    {
     "data": {
      "text/plain": [
       "234"
      ]
     },
     "execution_count": 24,
     "metadata": {},
     "output_type": "execute_result"
    }
   ],
   "source": [
    "df_saved = pd.read_csv(\"./data/Hotel_Reviews_Lisbon_Cleaned.csv\")\n",
    "df_saved.reset_index(drop=True, inplace=True)\n",
    "\n",
    "# Slice out IDs, then save them to a list\n",
    "\n",
    "df_saved_id = df_saved['Business ID'].to_list()\n",
    "       \n",
    "len(df_saved_id)"
   ]
  },
  {
   "cell_type": "markdown",
   "metadata": {},
   "source": [
    "## Requesting Reviews"
   ]
  },
  {
   "cell_type": "markdown",
   "metadata": {},
   "source": [
    "- Write a function that takes a business id and makes a call to the API for reviews.\n"
   ]
  },
  {
   "cell_type": "markdown",
   "metadata": {},
   "source": [
    "### ƒ: get_reviews"
   ]
  },
  {
   "cell_type": "code",
   "execution_count": 25,
   "metadata": {
    "ExecuteTime": {
     "end_time": "2021-05-13T18:49:28.457041Z",
     "start_time": "2021-05-13T18:49:28.443041Z"
    },
    "code_folding": [],
    "execution": {
     "iopub.execute_input": "2024-03-13T02:24:57.617522Z",
     "iopub.status.busy": "2024-03-13T02:24:57.616514Z",
     "iopub.status.idle": "2024-03-13T02:24:57.635634Z",
     "shell.execute_reply": "2024-03-13T02:24:57.634643Z",
     "shell.execute_reply.started": "2024-03-13T02:24:57.617522Z"
    }
   },
   "outputs": [],
   "source": [
    "def get_reviews(business_ID, yelp_key, verbose=False):\n",
    "    '''Adapted from Yelp API Lab: https://github.com/BenJMcCarty/dsc-yelp-api-lab/tree/solution'''\n",
    "    \n",
    "    url = 'https://api.yelp.com/v3/businesses/'+ business_ID + '/reviews'\n",
    "\n",
    "    headers = {\n",
    "            'Authorization': 'Bearer {}'.format(yelp_key),\n",
    "        }\n",
    "\n",
    "    response = requests.get(url, headers=headers)\n",
    "\n",
    "    if verbose == True:\n",
    "        print(response)\n",
    "        print(type(response.text))\n",
    "        print(response.text[:1000])\n",
    "\n",
    "\n",
    "    return response.json()"
   ]
  },
  {
   "cell_type": "markdown",
   "metadata": {},
   "source": [
    "# ƒ: Parse Reviews for final GET"
   ]
  },
  {
   "cell_type": "code",
   "execution_count": 26,
   "metadata": {
    "ExecuteTime": {
     "end_time": "2021-05-13T18:49:28.473044Z",
     "start_time": "2021-05-13T18:49:28.459041Z"
    },
    "code_folding": [],
    "execution": {
     "iopub.execute_input": "2024-03-13T02:25:00.688302Z",
     "iopub.status.busy": "2024-03-13T02:25:00.688302Z",
     "iopub.status.idle": "2024-03-13T02:25:00.695301Z",
     "shell.execute_reply": "2024-03-13T02:25:00.695301Z",
     "shell.execute_reply.started": "2024-03-13T02:25:00.688302Z"
    }
   },
   "outputs": [],
   "source": [
    "def parse_reviews(review):\n",
    "    '''Adapted from Tyrell's code'''  \n",
    "\n",
    "    \n",
    "    # Loop through each review in the list of reviews\n",
    "    # Add specific k:v pairs to a dictionary      \n",
    "    details = {\n",
    "        'Reviewer Name': review['user']['name'],\n",
    "        'Review Rating': review['rating'],\n",
    "        'Review Text': review['text'],\n",
    "        'Time Created': review['time_created']\n",
    "        }\n",
    "\n",
    "\n",
    "    # Create a DataFrame from the resulting dictionary\n",
    "    \n",
    "    df_parsed_reviews = pd.DataFrame.from_dict([details])\n",
    "   \n",
    "    return df_parsed_reviews"
   ]
  },
  {
   "cell_type": "markdown",
   "metadata": {
    "ExecuteTime": {
     "end_time": "2021-05-12T18:10:38.397744Z",
     "start_time": "2021-05-12T18:10:38.381718Z"
    }
   },
   "source": [
    "# ƒ: GET REVIEWS (ALL)"
   ]
  },
  {
   "cell_type": "code",
   "execution_count": 27,
   "metadata": {
    "ExecuteTime": {
     "end_time": "2021-05-13T18:49:28.489040Z",
     "start_time": "2021-05-13T18:49:28.476045Z"
    },
    "execution": {
     "iopub.execute_input": "2024-03-13T02:25:16.856626Z",
     "iopub.status.busy": "2024-03-13T02:25:16.856626Z",
     "iopub.status.idle": "2024-03-13T02:25:16.863814Z",
     "shell.execute_reply": "2024-03-13T02:25:16.863627Z",
     "shell.execute_reply.started": "2024-03-13T02:25:16.856626Z"
    }
   },
   "outputs": [],
   "source": [
    "def get_all_reviews(list_of_biz_ids, yelp_key, file_name = 'data/hotel_reviews_raw.csv'):\n",
    "    '''Requests all review results for given business IDs from Yelp API; \\\n",
    "    saves as a .csv; and returns a DataFrame.'''\n",
    "    \n",
    "    # Create a starter empty DataFrame and save to .csv to store data.    \n",
    "    blank_df = pd.DataFrame(columns= ['Reviewer Name', 'Review Rating', \n",
    "                                      'Review Text', 'Time Created', \n",
    "                                      'Business ID'])\n",
    "    blank_df.to_csv(file_name, index = False)\n",
    "        \n",
    "    for i in list_of_biz_ids:\n",
    "        try:\n",
    "            \n",
    "            # Process API request for 3 reviews per business:\n",
    "            raw_reviews = get_reviews(i, yelp_key)\n",
    "\n",
    "            for review in raw_reviews['reviews']:\n",
    "                \n",
    "\n",
    "                # From results, take values from \"Businesses\" key and save\n",
    "                parsed_reviews = parse_reviews(review) \n",
    "\n",
    "                parsed_reviews['Business ID'] = i\n",
    "                \n",
    "                # H2: save results to df\n",
    "                parsed_reviews.to_csv(file_name, mode='a', index = False,\n",
    "                                      header = False)\n",
    "\n",
    "        except:\n",
    "            # If error, print where the error happens\n",
    "            print(f'Error on page {num}.')\n",
    "            # Then save the results so far to the .csv\n",
    "            parsed_reviews.to_csv(file_name, mode='a', index = False, \n",
    "                                  header = False)\n",
    "\n",
    "    try:\n",
    "        reviews1 = pd.read_csv(file_name)\n",
    "        return reviews1\n",
    "    except:\n",
    "        return parsed_reviews"
   ]
  },
  {
   "cell_type": "markdown",
   "metadata": {},
   "source": [
    "#### Test GET REVIEWS"
   ]
  },
  {
   "cell_type": "code",
   "execution_count": 28,
   "metadata": {
    "ExecuteTime": {
     "end_time": "2021-05-13T18:49:57.159658Z",
     "start_time": "2021-05-13T18:49:28.492042Z"
    },
    "execution": {
     "iopub.execute_input": "2024-03-13T02:25:18.456553Z",
     "iopub.status.busy": "2024-03-13T02:25:18.456553Z",
     "iopub.status.idle": "2024-03-13T02:26:12.924830Z",
     "shell.execute_reply": "2024-03-13T02:26:12.924830Z",
     "shell.execute_reply.started": "2024-03-13T02:25:18.456553Z"
    }
   },
   "outputs": [
    {
     "data": {
      "text/html": [
       "<div>\n",
       "<style scoped>\n",
       "    .dataframe tbody tr th:only-of-type {\n",
       "        vertical-align: middle;\n",
       "    }\n",
       "\n",
       "    .dataframe tbody tr th {\n",
       "        vertical-align: top;\n",
       "    }\n",
       "\n",
       "    .dataframe thead th {\n",
       "        text-align: right;\n",
       "    }\n",
       "</style>\n",
       "<table border=\"1\" class=\"dataframe\">\n",
       "  <thead>\n",
       "    <tr style=\"text-align: right;\">\n",
       "      <th></th>\n",
       "      <th>Reviewer Name</th>\n",
       "      <th>Review Rating</th>\n",
       "      <th>Review Text</th>\n",
       "      <th>Time Created</th>\n",
       "      <th>Business ID</th>\n",
       "    </tr>\n",
       "  </thead>\n",
       "  <tbody>\n",
       "    <tr>\n",
       "      <th>0</th>\n",
       "      <td>Tiffany H.</td>\n",
       "      <td>5</td>\n",
       "      <td>This is a luxury high class hotel located in t...</td>\n",
       "      <td>2023-12-16 10:34:05</td>\n",
       "      <td>q-Px_TUI_zLr93xn-1-Ypw</td>\n",
       "    </tr>\n",
       "    <tr>\n",
       "      <th>1</th>\n",
       "      <td>Andrew F.</td>\n",
       "      <td>4</td>\n",
       "      <td>Charming, old-school, centrally located Lisbon...</td>\n",
       "      <td>2023-10-26 06:26:43</td>\n",
       "      <td>q-Px_TUI_zLr93xn-1-Ypw</td>\n",
       "    </tr>\n",
       "    <tr>\n",
       "      <th>2</th>\n",
       "      <td>Sheila R.</td>\n",
       "      <td>4</td>\n",
       "      <td>My husband and I stayed here recently for the ...</td>\n",
       "      <td>2022-08-14 12:15:56</td>\n",
       "      <td>q-Px_TUI_zLr93xn-1-Ypw</td>\n",
       "    </tr>\n",
       "    <tr>\n",
       "      <th>3</th>\n",
       "      <td>Alli C.</td>\n",
       "      <td>5</td>\n",
       "      <td>Wow! This hotel is just breathtaking, and serv...</td>\n",
       "      <td>2023-07-18 16:49:06</td>\n",
       "      <td>yvbBx06xhwEyvXITlGji5g</td>\n",
       "    </tr>\n",
       "    <tr>\n",
       "      <th>4</th>\n",
       "      <td>Clive H.</td>\n",
       "      <td>5</td>\n",
       "      <td>What a fantastic location, right in the heart ...</td>\n",
       "      <td>2022-07-05 09:10:56</td>\n",
       "      <td>yvbBx06xhwEyvXITlGji5g</td>\n",
       "    </tr>\n",
       "    <tr>\n",
       "      <th>...</th>\n",
       "      <td>...</td>\n",
       "      <td>...</td>\n",
       "      <td>...</td>\n",
       "      <td>...</td>\n",
       "      <td>...</td>\n",
       "    </tr>\n",
       "    <tr>\n",
       "      <th>493</th>\n",
       "      <td>Moumita B.</td>\n",
       "      <td>5</td>\n",
       "      <td>Right in the middle of Lisbon and in the most ...</td>\n",
       "      <td>2015-09-09 19:00:58</td>\n",
       "      <td>Ydmp0bv8rpmHsuBcSAo_tA</td>\n",
       "    </tr>\n",
       "    <tr>\n",
       "      <th>494</th>\n",
       "      <td>Stefano Z.</td>\n",
       "      <td>2</td>\n",
       "      <td>Except for being very close to my destination ...</td>\n",
       "      <td>2015-12-04 15:35:31</td>\n",
       "      <td>XieXK380bk1DgOMzVJrhbQ</td>\n",
       "    </tr>\n",
       "    <tr>\n",
       "      <th>495</th>\n",
       "      <td>Ana W.</td>\n",
       "      <td>5</td>\n",
       "      <td>Beautiful historic building, with elegant and ...</td>\n",
       "      <td>2019-09-07 18:42:17</td>\n",
       "      <td>_ZBCoK0xNKw3NkQ21XArqg</td>\n",
       "    </tr>\n",
       "    <tr>\n",
       "      <th>496</th>\n",
       "      <td>Matt B.</td>\n",
       "      <td>4</td>\n",
       "      <td>I stayed at Turim Alameda hotel, because it wa...</td>\n",
       "      <td>2016-05-12 13:35:11</td>\n",
       "      <td>e65ge0YP1I8FRzRSPvA4xQ</td>\n",
       "    </tr>\n",
       "    <tr>\n",
       "      <th>497</th>\n",
       "      <td>CJ B.</td>\n",
       "      <td>4</td>\n",
       "      <td>This place is a bit like a Peter Seller's movi...</td>\n",
       "      <td>2014-05-26 13:54:28</td>\n",
       "      <td>BExuGekqd19zjQccm4u-Cw</td>\n",
       "    </tr>\n",
       "  </tbody>\n",
       "</table>\n",
       "<p>498 rows × 5 columns</p>\n",
       "</div>"
      ],
      "text/plain": [
       "    Reviewer Name  Review Rating  \\\n",
       "0      Tiffany H.              5   \n",
       "1       Andrew F.              4   \n",
       "2       Sheila R.              4   \n",
       "3         Alli C.              5   \n",
       "4        Clive H.              5   \n",
       "..            ...            ...   \n",
       "493    Moumita B.              5   \n",
       "494    Stefano Z.              2   \n",
       "495        Ana W.              5   \n",
       "496       Matt B.              4   \n",
       "497         CJ B.              4   \n",
       "\n",
       "                                           Review Text         Time Created  \\\n",
       "0    This is a luxury high class hotel located in t...  2023-12-16 10:34:05   \n",
       "1    Charming, old-school, centrally located Lisbon...  2023-10-26 06:26:43   \n",
       "2    My husband and I stayed here recently for the ...  2022-08-14 12:15:56   \n",
       "3    Wow! This hotel is just breathtaking, and serv...  2023-07-18 16:49:06   \n",
       "4    What a fantastic location, right in the heart ...  2022-07-05 09:10:56   \n",
       "..                                                 ...                  ...   \n",
       "493  Right in the middle of Lisbon and in the most ...  2015-09-09 19:00:58   \n",
       "494  Except for being very close to my destination ...  2015-12-04 15:35:31   \n",
       "495  Beautiful historic building, with elegant and ...  2019-09-07 18:42:17   \n",
       "496  I stayed at Turim Alameda hotel, because it wa...  2016-05-12 13:35:11   \n",
       "497  This place is a bit like a Peter Seller's movi...  2014-05-26 13:54:28   \n",
       "\n",
       "                Business ID  \n",
       "0    q-Px_TUI_zLr93xn-1-Ypw  \n",
       "1    q-Px_TUI_zLr93xn-1-Ypw  \n",
       "2    q-Px_TUI_zLr93xn-1-Ypw  \n",
       "3    yvbBx06xhwEyvXITlGji5g  \n",
       "4    yvbBx06xhwEyvXITlGji5g  \n",
       "..                      ...  \n",
       "493  Ydmp0bv8rpmHsuBcSAo_tA  \n",
       "494  XieXK380bk1DgOMzVJrhbQ  \n",
       "495  _ZBCoK0xNKw3NkQ21XArqg  \n",
       "496  e65ge0YP1I8FRzRSPvA4xQ  \n",
       "497  BExuGekqd19zjQccm4u-Cw  \n",
       "\n",
       "[498 rows x 5 columns]"
      ]
     },
     "execution_count": 28,
     "metadata": {},
     "output_type": "execute_result"
    }
   ],
   "source": [
    "test_all_funct = get_all_reviews(df_saved_id, yelp_key)\n",
    "test_all_funct"
   ]
  },
  {
   "cell_type": "markdown",
   "metadata": {},
   "source": [
    "# Joining DFs"
   ]
  },
  {
   "cell_type": "code",
   "execution_count": 29,
   "metadata": {
    "ExecuteTime": {
     "end_time": "2021-05-13T18:49:57.175691Z",
     "start_time": "2021-05-13T18:49:57.161660Z"
    }
   },
   "outputs": [],
   "source": [
    "# df_details = pd.read_csv(\"data/wineries_price_converted.csv\")\n",
    "# df_reviews = pd.read_csv(\"data/reviews_raw.csv\")"
   ]
  },
  {
   "cell_type": "code",
   "execution_count": 30,
   "metadata": {
    "ExecuteTime": {
     "end_time": "2021-05-13T18:49:57.191658Z",
     "start_time": "2021-05-13T18:49:57.177668Z"
    }
   },
   "outputs": [],
   "source": [
    "# df_details.info()"
   ]
  },
  {
   "cell_type": "code",
   "execution_count": 31,
   "metadata": {
    "ExecuteTime": {
     "end_time": "2021-05-13T18:49:57.207666Z",
     "start_time": "2021-05-13T18:49:57.194661Z"
    }
   },
   "outputs": [],
   "source": [
    "# df_reviews.info()"
   ]
  },
  {
   "cell_type": "code",
   "execution_count": 32,
   "metadata": {
    "ExecuteTime": {
     "end_time": "2021-05-13T18:49:57.223662Z",
     "start_time": "2021-05-13T18:49:57.209659Z"
    }
   },
   "outputs": [],
   "source": [
    "# df_merged = df_details.merge(df_reviews, how='outer', on='Business ID')\n",
    "# df_merged"
   ]
  },
  {
   "cell_type": "code",
   "execution_count": 33,
   "metadata": {
    "ExecuteTime": {
     "end_time": "2021-05-13T18:49:57.239695Z",
     "start_time": "2021-05-13T18:49:57.225658Z"
    }
   },
   "outputs": [],
   "source": [
    "# df_merged.info()"
   ]
  },
  {
   "cell_type": "markdown",
   "metadata": {},
   "source": [
    "----"
   ]
  },
  {
   "cell_type": "markdown",
   "metadata": {},
   "source": [
    "# Part 4 -  Using python and pandas, write code to answer the questions below. "
   ]
  },
  {
   "cell_type": "markdown",
   "metadata": {},
   "source": [
    "**Reviews**\n",
    "\n",
    "Which are the 5 most reviewed businesses in your dataset?"
   ]
  },
  {
   "cell_type": "code",
   "execution_count": 34,
   "metadata": {
    "ExecuteTime": {
     "end_time": "2021-05-13T18:49:57.255659Z",
     "start_time": "2021-05-13T18:49:57.241662Z"
    }
   },
   "outputs": [],
   "source": [
    "# df_saved.sort_values('review_count', ascending=False).head()[['name','review_count']]"
   ]
  },
  {
   "cell_type": "markdown",
   "metadata": {},
   "source": [
    "What is the highest rating received in your data set and how many businesses have that rating?"
   ]
  },
  {
   "cell_type": "code",
   "execution_count": 35,
   "metadata": {
    "ExecuteTime": {
     "end_time": "2021-05-13T18:49:57.271697Z",
     "start_time": "2021-05-13T18:49:57.257658Z"
    },
    "scrolled": true
   },
   "outputs": [],
   "source": [
    "# max_rating = df_saved['rating'].max()\n",
    "\n",
    "# df_saved[df_saved['rating']== max_rating].shape"
   ]
  },
  {
   "cell_type": "code",
   "execution_count": 36,
   "metadata": {
    "ExecuteTime": {
     "end_time": "2021-05-13T18:49:57.287691Z",
     "start_time": "2021-05-13T18:49:57.274691Z"
    }
   },
   "outputs": [],
   "source": [
    "# sns.__version__"
   ]
  },
  {
   "cell_type": "code",
   "execution_count": 37,
   "metadata": {
    "ExecuteTime": {
     "end_time": "2021-05-13T18:49:57.302689Z",
     "start_time": "2021-05-13T18:49:57.290674Z"
    }
   },
   "outputs": [],
   "source": [
    "# df_saved"
   ]
  },
  {
   "cell_type": "markdown",
   "metadata": {},
   "source": [
    "# Converting Price to Int"
   ]
  },
  {
   "cell_type": "code",
   "execution_count": 38,
   "metadata": {
    "ExecuteTime": {
     "end_time": "2021-05-13T18:49:57.318689Z",
     "start_time": "2021-05-13T18:49:57.304662Z"
    }
   },
   "outputs": [],
   "source": [
    "# df_saved['price'].value_counts(dropna=False)"
   ]
  },
  {
   "cell_type": "code",
   "execution_count": 39,
   "metadata": {
    "ExecuteTime": {
     "end_time": "2021-05-13T18:49:57.333666Z",
     "start_time": "2021-05-13T18:49:57.321663Z"
    }
   },
   "outputs": [],
   "source": [
    "# df_saved['price_converted'] = df_saved['price'].map({np.nan:0, '$':1, '$$':2, '$$$':3})"
   ]
  },
  {
   "cell_type": "code",
   "execution_count": 40,
   "metadata": {
    "ExecuteTime": {
     "end_time": "2021-05-13T18:49:57.364660Z",
     "start_time": "2021-05-13T18:49:57.342659Z"
    }
   },
   "outputs": [],
   "source": [
    "# sns.countplot(x= 'price_converted', data=df_saved);"
   ]
  },
  {
   "cell_type": "code",
   "execution_count": 41,
   "metadata": {
    "ExecuteTime": {
     "end_time": "2021-05-13T18:49:57.379658Z",
     "start_time": "2021-05-13T18:49:57.367659Z"
    }
   },
   "outputs": [],
   "source": [
    "# sns.countplot(x= 'rating',data=df_saved);"
   ]
  },
  {
   "cell_type": "markdown",
   "metadata": {},
   "source": [
    ">- `hue` parameter - seaborn"
   ]
  },
  {
   "cell_type": "markdown",
   "metadata": {},
   "source": [
    "What percentage of businesses have a rating greater than or  4.5?"
   ]
  },
  {
   "cell_type": "code",
   "execution_count": 42,
   "metadata": {
    "ExecuteTime": {
     "end_time": "2021-05-13T18:49:57.395657Z",
     "start_time": "2021-05-13T18:49:57.381659Z"
    }
   },
   "outputs": [],
   "source": [
    "# df_total_high = df_saved[df_saved['rating'] >= 4.5].shape[0]\n",
    "# df_total_high / df_saved.shape[0]"
   ]
  },
  {
   "cell_type": "markdown",
   "metadata": {},
   "source": [
    "What percentage of businesses have a rating less than 3?"
   ]
  },
  {
   "cell_type": "code",
   "execution_count": 43,
   "metadata": {
    "ExecuteTime": {
     "end_time": "2021-05-13T18:49:57.411658Z",
     "start_time": "2021-05-13T18:49:57.397660Z"
    }
   },
   "outputs": [],
   "source": [
    "# df_total_low = df_saved[df_saved['rating'] < 3].shape[0]\n",
    "# df_total_low"
   ]
  },
  {
   "cell_type": "code",
   "execution_count": 44,
   "metadata": {
    "ExecuteTime": {
     "end_time": "2021-05-13T18:49:57.426660Z",
     "start_time": "2021-05-13T18:49:57.414659Z"
    }
   },
   "outputs": [],
   "source": [
    "# df_total_low / df_saved.shape[0]"
   ]
  },
  {
   "cell_type": "markdown",
   "metadata": {},
   "source": [
    "---\n",
    "\n",
    "**Pricing**\n",
    "\n",
    "What percentage of your businesses have a price label of one dollar sign? Two dollar signs? Three dollar signs? No dollar signs?"
   ]
  },
  {
   "cell_type": "code",
   "execution_count": 45,
   "metadata": {
    "ExecuteTime": {
     "end_time": "2021-05-13T18:49:57.442660Z",
     "start_time": "2021-05-13T18:49:57.429660Z"
    }
   },
   "outputs": [],
   "source": [
    "# df_total_zero = df_saved[df_saved['price_converted'] == 0].shape[0]\n",
    "# print(df_total_zero / df_saved.shape[0])\n",
    "# df_total_one = df_saved[df_saved['price_converted'] == 1].shape[0]\n",
    "# print(df_total_one / df_saved.shape[0])\n",
    "# df_total_two = df_saved[df_saved['price_converted'] == 2].shape[0]\n",
    "# print(df_total_two / df_saved.shape[0])\n",
    "# df_total_three = df_saved[df_saved['price_converted'] == 3].shape[0]\n",
    "# print(df_total_three / df_saved.shape[0])"
   ]
  },
  {
   "cell_type": "markdown",
   "metadata": {},
   "source": [
    "---\n",
    "\n",
    "**Returing Reviews**\n",
    "\n",
    "Return the text of the reviews for the most reviewed business. "
   ]
  },
  {
   "cell_type": "code",
   "execution_count": 46,
   "metadata": {
    "ExecuteTime": {
     "end_time": "2021-05-13T18:49:57.457670Z",
     "start_time": "2021-05-13T18:49:57.444660Z"
    }
   },
   "outputs": [],
   "source": [
    "# df_saved.keys()"
   ]
  },
  {
   "cell_type": "code",
   "execution_count": 47,
   "metadata": {
    "ExecuteTime": {
     "end_time": "2021-05-13T18:49:57.473657Z",
     "start_time": "2021-05-13T18:49:57.460661Z"
    },
    "scrolled": true
   },
   "outputs": [],
   "source": [
    "# max_reviewed = df_saved['review_count'].max()\n",
    "# most_reviewed_id = df_saved[df_saved['review_count'] == max_reviewed]['business id']\n",
    "# most_reviewed_id\n",
    "# # test_all_funct[test_all_funct['business id'] == 'DknnpiG1p4OoM1maFshzXA']\n"
   ]
  },
  {
   "cell_type": "code",
   "execution_count": 48,
   "metadata": {
    "ExecuteTime": {
     "end_time": "2021-05-13T18:49:57.488659Z",
     "start_time": "2021-05-13T18:49:57.476662Z"
    }
   },
   "outputs": [],
   "source": [
    "# test_all_funct.keys()"
   ]
  },
  {
   "cell_type": "markdown",
   "metadata": {},
   "source": [
    "Find the highest rated business and return text of the most recent review. If multiple business have the same rating, select the business with the most reviews. "
   ]
  },
  {
   "cell_type": "code",
   "execution_count": 49,
   "metadata": {
    "ExecuteTime": {
     "end_time": "2021-05-13T18:49:57.503662Z",
     "start_time": "2021-05-13T18:49:57.491662Z"
    }
   },
   "outputs": [],
   "source": [
    "# top_b = df_saved[df_saved['rating'] == max_rating]\n",
    "# max_counts = df_saved['review_count'].max()\n",
    "# top_num_reviews_top_b = top_b['review_count'].max()\n",
    "# top_b[top_b['review_count'] == top_num_reviews_top_b]"
   ]
  },
  {
   "cell_type": "markdown",
   "metadata": {},
   "source": [
    "Find the lowest rated business and return text of the most recent review.  If multiple business have the same rating, select the business with the least reviews. "
   ]
  },
  {
   "cell_type": "code",
   "execution_count": 50,
   "metadata": {
    "ExecuteTime": {
     "end_time": "2021-05-13T18:49:57.519662Z",
     "start_time": "2021-05-13T18:49:57.506661Z"
    }
   },
   "outputs": [],
   "source": [
    "# min_b = df_saved['rating'].min()\n",
    "# min_b = df_saved[df_saved['rating'] == min_b]\n",
    "# min_counts = df_saved['review_count'].min()\n",
    "# min_num_reviews_min_b = min_b['review_count'].min()\n",
    "# min_b[min_b['review_count'] == min_num_reviews_min_b]"
   ]
  },
  {
   "cell_type": "markdown",
   "metadata": {},
   "source": [
    "# Reference help"
   ]
  },
  {
   "cell_type": "markdown",
   "metadata": {},
   "source": [
    "###  Pagination\n",
    "\n",
    "Returning to the Yelp API, the [documentation](https://www.yelp.com/developers/documentation/v3/business_search) also provides us details regarding the API limits. These often include details about the number of requests a user is allowed to make within a specified time limit and the maximum number of results to be returned. In this case, we are told that any request has a maximum of 50 results per request and defaults to 20. Furthermore, any search will be limited to a total of 1000 results. To retrieve all 1000 of these results, we would have to page through the results piece by piece, retriving 50 at a time. Processes such as these are often refered to as pagination.\n",
    "\n",
    "Now that you have an initial response, you can examine the contents of the json container. For example, you might start with ```response.json().keys()```. Here, you'll see a key for `'total'`, which tells you the full number of matching results given your query parameters. Write a loop (or ideally a function) which then makes successive API calls using the offset parameter to retrieve all of the results (or 5000 for a particularly large result set) for the original query. As you do this, be mindful of how you store the data. \n",
    "\n",
    "**Note: be mindful of the API rate limits. You can only make 5000 requests per day, and APIs can make requests too fast. Start prototyping small before running a loop that could be faulty. You can also use time.sleep(n) to add delays. For more details see https://www.yelp.com/developers/documentation/v3/rate_limiting.**"
   ]
  },
  {
   "cell_type": "markdown",
   "metadata": {},
   "source": [
    "***Below is sample code that you can use to help you deal with the pagination parameter and bring all of the functions together.***\n",
    "\n",
    "\n",
    "***Also, something might cause your code to break while it is running. You don't want to constantly repull the same data when this happens, so you should insert the data into the database as you call and parse it, not after you have all of the data***\n"
   ]
  },
  {
   "cell_type": "code",
   "execution_count": 51,
   "metadata": {
    "ExecuteTime": {
     "end_time": "2021-05-13T18:49:57.535659Z",
     "start_time": "2021-05-13T18:49:57.522660Z"
    }
   },
   "outputs": [],
   "source": [
    "# # create a variable  to keep track of which result you are in. \n",
    "# cur = 0\n",
    "\n",
    "# #set up a while loop to go through and grab the result \n",
    "# while cur < num and cur < 1000:\n",
    "#     #set the offset parameter to be where you currently are in the results \n",
    "#     url_params['offset'] = cur\n",
    "#     #make your API call with the new offset number\n",
    "#     results = yelp_call(url_params, api_key)\n",
    "    \n",
    "#     #after you get your results you can now use your function to parse those results\n",
    "#     parsed_results = parse_results(results)\n",
    "    \n",
    "#     # use your function to insert your parsed results into the db\n",
    "#     db_insert(parsed_results)\n",
    "#     #increment the counter by 50 to move on to the next results\n",
    "#     cur += 20"
   ]
  },
  {
   "cell_type": "code",
   "execution_count": null,
   "metadata": {},
   "outputs": [],
   "source": []
  }
 ],
 "metadata": {
  "kernelspec": {
   "display_name": "Python 3 (ipykernel)",
   "language": "python",
   "name": "python3"
  },
  "language_info": {
   "codemirror_mode": {
    "name": "ipython",
    "version": 3
   },
   "file_extension": ".py",
   "mimetype": "text/x-python",
   "name": "python",
   "nbconvert_exporter": "python",
   "pygments_lexer": "ipython3",
   "version": "3.10.10"
  },
  "toc": {
   "base_numbering": 1,
   "nav_menu": {},
   "number_sections": false,
   "sideBar": true,
   "skip_h1_title": false,
   "title_cell": "Table of Contents",
   "title_sidebar": "Contents",
   "toc_cell": false,
   "toc_position": {
    "height": "calc(100% - 180px)",
    "left": "10px",
    "top": "150px",
    "width": "225px"
   },
   "toc_section_display": true,
   "toc_window_display": true
  },
  "varInspector": {
   "cols": {
    "lenName": "32",
    "lenType": 16,
    "lenVar": 40
   },
   "kernels_config": {
    "python": {
     "delete_cmd_postfix": "",
     "delete_cmd_prefix": "del ",
     "library": "var_list.py",
     "varRefreshCmd": "print(var_dic_list())"
    },
    "r": {
     "delete_cmd_postfix": ") ",
     "delete_cmd_prefix": "rm(",
     "library": "var_list.r",
     "varRefreshCmd": "cat(var_dic_list()) "
    }
   },
   "types_to_exclude": [
    "module",
    "function",
    "builtin_function_or_method",
    "instance",
    "_Feature"
   ],
   "window_display": false
  },
  "widgets": {
   "application/vnd.jupyter.widget-state+json": {
    "state": {},
    "version_major": 2,
    "version_minor": 0
   }
  }
 },
 "nbformat": 4,
 "nbformat_minor": 4
}
